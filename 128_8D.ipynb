{
 "cells": [
  {
   "cell_type": "code",
   "execution_count": 3,
   "id": "9426272f-33a0-492b-8be6-18220ae50cb9",
   "metadata": {},
   "outputs": [],
   "source": [
    "# conditional statements"
   ]
  },
  {
   "cell_type": "code",
   "execution_count": 15,
   "id": "4115251a-7c82-429e-b0bf-05250b801fb9",
   "metadata": {},
   "outputs": [
    {
     "name": "stdout",
     "output_type": "stream",
     "text": [
      "Even\n"
     ]
    }
   ],
   "source": [
    "a=6\n",
    "if a%2==0:\n",
    "    print(\"Even\")\n",
    "else:\n",
    "    print(\"odd\")"
   ]
  },
  {
   "cell_type": "code",
   "execution_count": 63,
   "id": "7e8d7f9d-e913-4912-b1fa-aa2a2de051e9",
   "metadata": {},
   "outputs": [
    {
     "name": "stdout",
     "output_type": "stream",
     "text": [
      "Even\n"
     ]
    }
   ],
   "source": [
    "print(\"Even\") if a%2==0 else print(\"odd\")"
   ]
  },
  {
   "cell_type": "code",
   "execution_count": 19,
   "id": "de0b289e-9c64-439f-b65a-434706d66463",
   "metadata": {},
   "outputs": [
    {
     "name": "stdout",
     "output_type": "stream",
     "text": [
      "odd\n"
     ]
    }
   ],
   "source": [
    "b=3\n",
    "result='Even' if b%2==0 else 'odd'\n",
    "print(result)"
   ]
  },
  {
   "cell_type": "code",
   "execution_count": 59,
   "id": "329de86e-0f22-4a17-bad3-cfd9033eb6fb",
   "metadata": {},
   "outputs": [
    {
     "name": "stdout",
     "output_type": "stream",
     "text": [
      "odd\n"
     ]
    }
   ],
   "source": [
    "c=5\n",
    "result='Even' if c%2==0 else 'odd' if c!=0 else 'Zero'\n",
    "print(result)"
   ]
  },
  {
   "cell_type": "code",
   "execution_count": 39,
   "id": "3887968f-9408-420c-a913-dfb5ae99d809",
   "metadata": {},
   "outputs": [],
   "source": [
    "#list"
   ]
  },
  {
   "cell_type": "code",
   "execution_count": 43,
   "id": "f3267e28-536a-4436-afa6-9d61939b86b8",
   "metadata": {},
   "outputs": [
    {
     "data": {
      "text/plain": [
       "[2, 4, 6, 8, 10]"
      ]
     },
     "execution_count": 43,
     "metadata": {},
     "output_type": "execute_result"
    }
   ],
   "source": [
    "l1=[1,2,3,4,5]\n",
    "[2*x for x in l1]"
   ]
  },
  {
   "cell_type": "code",
   "execution_count": 61,
   "id": "5e824978-a4f4-46e2-8a3e-255a6d0111b7",
   "metadata": {},
   "outputs": [
    {
     "data": {
      "text/plain": [
       "[2, 4]"
      ]
     },
     "execution_count": 61,
     "metadata": {},
     "output_type": "execute_result"
    }
   ],
   "source": [
    "[x for x in l1 if x%2==0]"
   ]
  },
  {
   "cell_type": "code",
   "execution_count": 65,
   "id": "39aca6b5-e7a1-42bd-a66a-4f8f3ba31142",
   "metadata": {},
   "outputs": [
    {
     "data": {
      "text/plain": [
       "[1, 3, 5]"
      ]
     },
     "execution_count": 65,
     "metadata": {},
     "output_type": "execute_result"
    }
   ],
   "source": [
    "[x for x in l1 if x%2!=0]"
   ]
  },
  {
   "cell_type": "code",
   "execution_count": 85,
   "id": "3141baa5-7a92-49c3-89b9-81212f2786e7",
   "metadata": {},
   "outputs": [
    {
     "data": {
      "text/plain": [
       "{'Ram': 3.0, 'Raju': 7.0, 'Ramu': 5.0}"
      ]
     },
     "execution_count": 85,
     "metadata": {},
     "output_type": "execute_result"
    }
   ],
   "source": [
    "d1={'Ram':[1,2,3,4,5],'Raju':[5,6,7,8,9],'Ramu':[4,3,5,6,7]}\n",
    "{k:sum(v)/len(v) for k,v in d1.items()}"
   ]
  },
  {
   "cell_type": "code",
   "execution_count": 87,
   "id": "9e6c25c4-2a02-4432-bd75-896241076709",
   "metadata": {},
   "outputs": [],
   "source": [
    "def mean_value(given_list):\n",
    "    total=sum(given_list)\n",
    "    average_value=total/len(given_list)\n",
    "    return average_value"
   ]
  },
  {
   "cell_type": "code",
   "execution_count": 89,
   "id": "ce030680-5a50-4733-aac6-63a34886473b",
   "metadata": {},
   "outputs": [
    {
     "data": {
      "text/plain": [
       "4.5"
      ]
     },
     "execution_count": 89,
     "metadata": {},
     "output_type": "execute_result"
    }
   ],
   "source": [
    "l2=[1,2,3,4,5,6,7,8]\n",
    "mean_value(l2)"
   ]
  },
  {
   "cell_type": "code",
   "execution_count": 99,
   "id": "76b73e3d-bc25-40ab-bd04-f2fc702617ad",
   "metadata": {},
   "outputs": [
    {
     "name": "stdout",
     "output_type": "stream",
     "text": [
      "4.5\n"
     ]
    }
   ],
   "source": [
    "import numpy as np\n",
    "\n",
    "l3=[1,2,3,4,5,6,7,8]\n",
    "mean_value=np.mean(l3)\n",
    "print(mean_value)"
   ]
  },
  {
   "cell_type": "code",
   "execution_count": 107,
   "id": "35da24d2-53eb-4968-a810-5487e444e793",
   "metadata": {},
   "outputs": [
    {
     "name": "stdin",
     "output_type": "stream",
     "text": [
      "Enter name: chandu\n"
     ]
    },
    {
     "name": "stdout",
     "output_type": "stream",
     "text": [
      "Good morning, chandu\n"
     ]
    }
   ],
   "source": [
    "''' user defined function to wish good morning with name & call the function with your name'''\n",
    "def greet(given_name):\n",
    "    if given_name:\n",
    "        return f\"Good morning, {given_name}\"\n",
    "\n",
    "name=input(\"Enter name:\")\n",
    "print(greet(name))\n"
   ]
  },
  {
   "cell_type": "code",
   "execution_count": 1,
   "id": "c11f4866-ea9f-48a4-81bc-e0c5740d6c04",
   "metadata": {},
   "outputs": [],
   "source": [
    "# 9/1/25"
   ]
  },
  {
   "cell_type": "code",
   "execution_count": 15,
   "id": "596d3986-b9c4-4558-b613-43d71afa6291",
   "metadata": {},
   "outputs": [],
   "source": [
    "#function with variable number of arguments\n",
    "import numpy as np\n",
    "\n",
    "def avg_value(*n):\n",
    "    #l1=len(n)\n",
    "    avegerage=np.mean(n) #sum(n)/l1\n",
    "    return avegerage"
   ]
  },
  {
   "cell_type": "code",
   "execution_count": 19,
   "id": "891dc75b-13d4-40a9-ae6b-ca9f2fe525fc",
   "metadata": {},
   "outputs": [
    {
     "data": {
      "text/plain": [
       "np.float64(35.0)"
      ]
     },
     "execution_count": 19,
     "metadata": {},
     "output_type": "execute_result"
    }
   ],
   "source": [
    "avg_value(10,20,30,40,50,60)"
   ]
  },
  {
   "cell_type": "code",
   "execution_count": 21,
   "id": "a7335266-e398-404f-b8a0-013fecfb55b2",
   "metadata": {},
   "outputs": [],
   "source": [
    "# lambda function\n",
    "greet=lambda name:print(f'Good morning {name}')"
   ]
  },
  {
   "cell_type": "code",
   "execution_count": 27,
   "id": "94d3a01e-a2bd-4e47-b136-5181ddc631c7",
   "metadata": {},
   "outputs": [
    {
     "name": "stdin",
     "output_type": "stream",
     "text": [
      "enter name:  chandu\n"
     ]
    },
    {
     "name": "stdout",
     "output_type": "stream",
     "text": [
      "Good morning chandu\n"
     ]
    }
   ],
   "source": [
    "name=input(\"enter name: \")\n",
    "greet(name)"
   ]
  },
  {
   "cell_type": "code",
   "execution_count": 35,
   "id": "e5f027a2-5fe1-4e48-a7ac-65a00f66e8c1",
   "metadata": {},
   "outputs": [
    {
     "name": "stdout",
     "output_type": "stream",
     "text": [
      "Num:  8\n"
     ]
    }
   ],
   "source": [
    "# lambda function to print the product of three num\n",
    "\n",
    "pro=lambda a,b,c:print(\"Num: \",a*b*c)\n",
    "pro(2,2,2)"
   ]
  },
  {
   "cell_type": "code",
   "execution_count": 43,
   "id": "caf69fa0-a2c8-47fc-b736-b7571d8d544b",
   "metadata": {},
   "outputs": [
    {
     "name": "stdout",
     "output_type": "stream",
     "text": [
      "Even Numbers:  [2, 4, 6, 8]\n"
     ]
    }
   ],
   "source": [
    "# even numbers\n",
    "'''eve=lambda *l:print(\"Even: \",[x for x in l if x%2==0])\n",
    "l2=[1,2,3,4,5,6,7,8,9]\n",
    "eve(l2)'''\n",
    "\n",
    "import numpy as np\n",
    "\n",
    "eve = lambda l: print(\"Even Numbers: \", [x for x in l if np.mod(x, 2) == 0])\n",
    "l2 = [1, 2, 3, 4, 5, 6, 7, 8, 9]\n",
    "eve(l2)\n"
   ]
  },
  {
   "cell_type": "code",
   "execution_count": null,
   "id": "9ad7dae3-86b3-48e2-bd9d-c4d95cf4587b",
   "metadata": {},
   "outputs": [],
   "source": []
  }
 ],
 "metadata": {
  "kernelspec": {
   "display_name": "Python 3 (ipykernel)",
   "language": "python",
   "name": "python3"
  },
  "language_info": {
   "codemirror_mode": {
    "name": "ipython",
    "version": 3
   },
   "file_extension": ".py",
   "mimetype": "text/x-python",
   "name": "python",
   "nbconvert_exporter": "python",
   "pygments_lexer": "ipython3",
   "version": "3.12.4"
  }
 },
 "nbformat": 4,
 "nbformat_minor": 5
}
