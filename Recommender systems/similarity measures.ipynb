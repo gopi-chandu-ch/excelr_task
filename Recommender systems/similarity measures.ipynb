{
 "cells": [
  {
   "cell_type": "markdown",
   "id": "e0b079c2-8136-4f7b-8b7f-73b26c03d687",
   "metadata": {},
   "source": [
    "#### 14-02-25"
   ]
  },
  {
   "cell_type": "code",
   "execution_count": 2,
   "id": "b370910b-776e-490b-94ef-045eda5486e4",
   "metadata": {},
   "outputs": [],
   "source": [
    "import numpy as np\n",
    "from scipy.spatial.distance import cosine, euclidean\n",
    "from scipy.stats import pearsonr"
   ]
  },
  {
   "cell_type": "code",
   "execution_count": 4,
   "id": "c477944a-c013-41bd-8920-2f333f948196",
   "metadata": {},
   "outputs": [],
   "source": [
    "# sample user rating data on a scale of 5\n",
    "user1=np.array([4,5,2,3,4])\n",
    "user2=np.array([5,3,2,4,5])"
   ]
  },
  {
   "cell_type": "code",
   "execution_count": 6,
   "id": "34f2005d-f3f5-4239-841b-42485a4629f7",
   "metadata": {},
   "outputs": [
    {
     "name": "stdout",
     "output_type": "stream",
     "text": [
      "cosine similarities:  0.9548\n"
     ]
    }
   ],
   "source": [
    "# 1. Cosine aimilarities; (1 - cosine distance) gives similarities\n",
    "cosine_similarities=1-cosine(user1,user2)\n",
    "print(f\"cosine similarities: {cosine_similarities: .4f}\")"
   ]
  },
  {
   "cell_type": "code",
   "execution_count": 8,
   "id": "76d21a87-a4a0-4dad-aacd-843c6c034ce0",
   "metadata": {},
   "outputs": [
    {
     "name": "stdout",
     "output_type": "stream",
     "text": [
      "pearson correlaton similarity: 0.4372\n"
     ]
    }
   ],
   "source": [
    "#2. pearson correalation similarity which return correlation coefficient\n",
    "\n",
    "pearson_corr, _=pearsonr(user1,user2)\n",
    "print(f\"pearson correlaton similarity: {pearson_corr:.4f}\")"
   ]
  },
  {
   "cell_type": "code",
   "execution_count": 10,
   "id": "7aa77224-ba91-4d2b-baad-c0875451f3c0",
   "metadata": {},
   "outputs": [
    {
     "name": "stdout",
     "output_type": "stream",
     "text": [
      "Euclidean  Distance Similarity: 0.2743\n"
     ]
    }
   ],
   "source": [
    "# 3. Euclidean Distance simlarity\n",
    "\n",
    "euclidean_distance=euclidean(user1, user2)\n",
    "euclidean_similarity=1/(1+euclidean_distance)\n",
    "print(f\"Euclidean  Distance Similarity: {euclidean_similarity:.4f}\")"
   ]
  },
  {
   "cell_type": "code",
   "execution_count": 14,
   "id": "62fab97d-9ffe-42e1-a0d0-9ece5774eb15",
   "metadata": {},
   "outputs": [
    {
     "name": "stdout",
     "output_type": "stream",
     "text": [
      "         Bahubali  Mufasa  Interstellar  RRR  Mrs\n",
      "Raju            5       3             4    4    2\n",
      "John            3       1             2    3    3\n",
      "Ramya           4       3             4    5    1\n",
      "Kishore         2       2             1    2    4\n",
      "  User 1   User 2  Cosine Similarity  Pearson Correlation  \\\n",
      "0   Raju     John           0.929670             0.196116   \n",
      "1   Raju    Ramya           0.978337             0.838557   \n",
      "2   Raju  Kishore           0.799014            -0.720577   \n",
      "3   John    Ramya           0.885465             0.036860   \n",
      "4   John  Kishore           0.919145             0.408248   \n",
      "5  Ramya  Kishore           0.725961            -0.812605   \n",
      "\n",
      "   Euclidean Similarity  \n",
      "0              0.210897  \n",
      "1              0.366025  \n",
      "2              0.161390  \n",
      "3              0.195194  \n",
      "4              0.309017  \n",
      "5              0.150221  \n"
     ]
    }
   ],
   "source": [
    "#User-item rating matrix for 4 users\n",
    "import pandas as pd\n",
    "ratings = np.array([\n",
    "    [5, 3, 4, 4, 2],  # User A\n",
    "    [3, 1, 2, 3, 3],  # User B\n",
    "    [4, 3, 4, 5, 1],  # User C\n",
    "    [2, 2, 1, 2, 4]   # User D\n",
    "])\n",
    "\n",
    "users = [\"Raju\", \"John\", \"Ramya\", \"Kishore\"]\n",
    "df = pd.DataFrame(ratings, index=users, columns=[\"Bahubali\",\"Mufasa\",\"Interstellar\",\"RRR\",\"Mrs\"])\n",
    "print(df)\n",
    "\n",
    "# Function to compute similarity\n",
    "def compute_similarity(df):\n",
    "    num_users = df.shape[0]\n",
    "    similarity_results = []\n",
    "\n",
    "    for i in range(num_users):\n",
    "        for j in range(i + 1, num_users):  # Avoid redundant pairs\n",
    "            user1, user2 = df.iloc[i], df.iloc[j]\n",
    "\n",
    "            # Cosine Similarity\n",
    "            cos_sim = 1 - cosine(user1, user2)\n",
    "\n",
    "            # Pearson Correlation Similarity\n",
    "            pearson_sim, _ = pearsonr(user1, user2)\n",
    "\n",
    "            # Euclidean Distance Similarity\n",
    "            euc_dist = euclidean(user1, user2)\n",
    "            euc_sim = 1 / (1 + euc_dist)  # Normalize to [0,1]\n",
    "\n",
    "            similarity_results.append([users[i], users[j], cos_sim, pearson_sim, euc_sim])\n",
    "\n",
    "    return pd.DataFrame(similarity_results, columns=[\"User 1\", \"User 2\", \"Cosine Similarity\", \"Pearson Correlation\", \"Euclidean Similarity\"])\n",
    "\n",
    "# Compute similarity matrix\n",
    "similarity_df = compute_similarity(df)\n",
    "\n",
    "# Display results\n",
    "print(similarity_df)"
   ]
  },
  {
   "cell_type": "code",
   "execution_count": null,
   "id": "8043f0ca-3d02-43dd-bf3d-f49723f37a55",
   "metadata": {},
   "outputs": [],
   "source": []
  }
 ],
 "metadata": {
  "kernelspec": {
   "display_name": "Python 3 (ipykernel)",
   "language": "python",
   "name": "python3"
  },
  "language_info": {
   "codemirror_mode": {
    "name": "ipython",
    "version": 3
   },
   "file_extension": ".py",
   "mimetype": "text/x-python",
   "name": "python",
   "nbconvert_exporter": "python",
   "pygments_lexer": "ipython3",
   "version": "3.12.4"
  }
 },
 "nbformat": 4,
 "nbformat_minor": 5
}
