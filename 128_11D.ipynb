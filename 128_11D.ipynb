{
 "cells": [
  {
   "cell_type": "markdown",
   "id": "0b2a0a6c-6848-4e08-b9af-98d9edcde9aa",
   "metadata": {},
   "source": [
    "# Pandas"
   ]
  },
  {
   "cell_type": "code",
   "execution_count": null,
   "id": "6453b2e3-1ed1-41d2-9c33-997b3ff4f932",
   "metadata": {},
   "outputs": [],
   "source": [
    "# create series\n",
    "import pandas as pd"
   ]
  },
  {
   "cell_type": "code",
   "execution_count": null,
   "id": "2d7090d0-3539-498c-89d1-294d726ce1f7",
   "metadata": {},
   "outputs": [],
   "source": [
    "data = [10,20,30,40]\n",
    "series = pd.Series(data)\n",
    "print(series)"
   ]
  },
  {
   "cell_type": "code",
   "execution_count": null,
   "id": "fb5583ea-1e77-425d-a735-01c45b09c6e9",
   "metadata": {},
   "outputs": [],
   "source": [
    "import numpy as np\n",
    "import pandas as pd\n",
    "\n",
    "data = [10, 20, 30, 40]\n",
    "i=['A','B','C','D']\n",
    "series = pd.Series(data,index=i)\n",
    "print(series)\n"
   ]
  },
  {
   "cell_type": "code",
   "execution_count": null,
   "id": "c7953c76-521f-4811-bade-84c4b1ebfb77",
   "metadata": {},
   "outputs": [],
   "source": [
    "# create a padas setries using dictionary\n",
    "data={'a':10,'b':20,'c':30}\n",
    "series=pd.Series(data)\n",
    "print(series)"
   ]
  },
  {
   "cell_type": "code",
   "execution_count": null,
   "id": "c5cc3844-dcae-423f-96dc-4a256fc51c94",
   "metadata": {},
   "outputs": [],
   "source": [
    "series.replace(20,100)"
   ]
  },
  {
   "cell_type": "code",
   "execution_count": null,
   "id": "987a839d-f3d7-4295-97ac-1b41ad05031c",
   "metadata": {},
   "outputs": [],
   "source": [
    "# create series using numpy array\n",
    "import numpy as np\n",
    "data=np.array([100,200,300])\n",
    "series=pd.Series(data,index=['a','b','c'])\n",
    "print(series)"
   ]
  },
  {
   "cell_type": "code",
   "execution_count": null,
   "id": "9e930564-d100-42b3-a1f3-931a9d5226e9",
   "metadata": {},
   "outputs": [],
   "source": [
    "# create pandas dataframe from dictionary of lists\n",
    "import pandas as pd\n",
    "data={'Name':['Alice','Bob','Mary'],'Age':[25,30,34],'Country':['USA','UK','AUS']}\n",
    "df=pd.Dataframe(data)\n",
    "print(df)"
   ]
  },
  {
   "cell_type": "code",
   "execution_count": null,
   "id": "5d0e77a6-e37f-4320-92f7-7f665a068f5c",
   "metadata": {},
   "outputs": [],
   "source": [
    "# create pandas dataframe from numpy array\n",
    "import numpy as np\n",
    "\n",
    "array=np.array([[1,2,3],[4,5,6],[7,8,9]])\n",
    "print(array)\n",
    "df=pd.DataFrame(array,columns=['A','B','C']) #if we don't mention coloum values it takes 0,1,2..\n",
    "print(df)"
   ]
  },
  {
   "cell_type": "code",
   "execution_count": null,
   "id": "3a955212-b025-45c5-8702-ff5bd0376800",
   "metadata": {},
   "outputs": [],
   "source": [
    "# create a dataframe from a nested list\n",
    "data=[[1,'Alice',25],[2,'Bob',30],[3,'Mary',34]]\n",
    "print(data)\n",
    "df=pd.DataFrame(data, columns=['ID','NAME','AGE'])\n",
    "print(df)"
   ]
  },
  {
   "cell_type": "code",
   "execution_count": null,
   "id": "7d833476-bf6d-44c1-8d09-8ff0f4fc48c8",
   "metadata": {},
   "outputs": [],
   "source": [
    "# import data from a csv file and create\n",
    "iris_df=pd.read_csv('iris_dataset.csv')\n",
    "print(iris_df)"
   ]
  },
  {
   "cell_type": "code",
   "execution_count": null,
   "id": "575a9ef1-51ab-4311-b57a-612957a88a99",
   "metadata": {},
   "outputs": [],
   "source": [
    "# import data from a excel file and create\n",
    "iris_df=pd.read_excel('iris_dataset.xlsx')\n",
    "print(iris_df)"
   ]
  }
 ],
 "metadata": {
  "kernelspec": {
   "display_name": "Python 3 (ipykernel)",
   "language": "python",
   "name": "python3"
  },
  "language_info": {
   "codemirror_mode": {
    "name": "ipython",
    "version": 3
   },
   "file_extension": ".py",
   "mimetype": "text/x-python",
   "name": "python",
   "nbconvert_exporter": "python",
   "pygments_lexer": "ipython3",
   "version": "3.12.4"
  }
 },
 "nbformat": 4,
 "nbformat_minor": 5
}
