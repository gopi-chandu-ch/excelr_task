{
 "cells": [
  {
   "cell_type": "markdown",
   "id": "26766a4c-f9db-4237-8c13-badcfed62569",
   "metadata": {},
   "source": [
    "#### Gradient Boosting classifier"
   ]
  },
  {
   "cell_type": "code",
   "execution_count": 3,
   "id": "89b691a7-b49a-46b9-b296-bdae59d48d60",
   "metadata": {},
   "outputs": [],
   "source": [
    "import pandas as pd\n",
    "from sklearn.model_selection import train_test_split, GridSearchCV, KFold, StratifiedKFold\n",
    "from sklearn.ensemble import GradientBoostingClassifier\n",
    "from sklearn.metrics import accuracy_score, classification_report, confusion_matrix\n",
    "from sklearn.preprocessing import StandardScaler"
   ]
  },
  {
   "cell_type": "code",
   "execution_count": 5,
   "id": "6c2d1f2b-e8d7-48fa-b6a9-19f127387bb1",
   "metadata": {},
   "outputs": [
    {
     "data": {
      "text/html": [
       "<div>\n",
       "<style scoped>\n",
       "    .dataframe tbody tr th:only-of-type {\n",
       "        vertical-align: middle;\n",
       "    }\n",
       "\n",
       "    .dataframe tbody tr th {\n",
       "        vertical-align: top;\n",
       "    }\n",
       "\n",
       "    .dataframe thead th {\n",
       "        text-align: right;\n",
       "    }\n",
       "</style>\n",
       "<table border=\"1\" class=\"dataframe\">\n",
       "  <thead>\n",
       "    <tr style=\"text-align: right;\">\n",
       "      <th></th>\n",
       "      <th>preg</th>\n",
       "      <th>plas</th>\n",
       "      <th>pres</th>\n",
       "      <th>skin</th>\n",
       "      <th>test</th>\n",
       "      <th>mass</th>\n",
       "      <th>pedi</th>\n",
       "      <th>age</th>\n",
       "      <th>class</th>\n",
       "    </tr>\n",
       "  </thead>\n",
       "  <tbody>\n",
       "    <tr>\n",
       "      <th>0</th>\n",
       "      <td>6</td>\n",
       "      <td>148</td>\n",
       "      <td>72</td>\n",
       "      <td>35</td>\n",
       "      <td>0</td>\n",
       "      <td>33.6</td>\n",
       "      <td>0.627</td>\n",
       "      <td>50</td>\n",
       "      <td>1</td>\n",
       "    </tr>\n",
       "    <tr>\n",
       "      <th>1</th>\n",
       "      <td>1</td>\n",
       "      <td>85</td>\n",
       "      <td>66</td>\n",
       "      <td>29</td>\n",
       "      <td>0</td>\n",
       "      <td>26.6</td>\n",
       "      <td>0.351</td>\n",
       "      <td>31</td>\n",
       "      <td>0</td>\n",
       "    </tr>\n",
       "    <tr>\n",
       "      <th>2</th>\n",
       "      <td>8</td>\n",
       "      <td>183</td>\n",
       "      <td>64</td>\n",
       "      <td>0</td>\n",
       "      <td>0</td>\n",
       "      <td>23.3</td>\n",
       "      <td>0.672</td>\n",
       "      <td>32</td>\n",
       "      <td>1</td>\n",
       "    </tr>\n",
       "    <tr>\n",
       "      <th>3</th>\n",
       "      <td>1</td>\n",
       "      <td>89</td>\n",
       "      <td>66</td>\n",
       "      <td>23</td>\n",
       "      <td>94</td>\n",
       "      <td>28.1</td>\n",
       "      <td>0.167</td>\n",
       "      <td>21</td>\n",
       "      <td>0</td>\n",
       "    </tr>\n",
       "    <tr>\n",
       "      <th>4</th>\n",
       "      <td>0</td>\n",
       "      <td>137</td>\n",
       "      <td>40</td>\n",
       "      <td>35</td>\n",
       "      <td>168</td>\n",
       "      <td>43.1</td>\n",
       "      <td>2.288</td>\n",
       "      <td>33</td>\n",
       "      <td>1</td>\n",
       "    </tr>\n",
       "  </tbody>\n",
       "</table>\n",
       "</div>"
      ],
      "text/plain": [
       "   preg  plas  pres  skin  test  mass   pedi  age  class\n",
       "0     6   148    72    35     0  33.6  0.627   50      1\n",
       "1     1    85    66    29     0  26.6  0.351   31      0\n",
       "2     8   183    64     0     0  23.3  0.672   32      1\n",
       "3     1    89    66    23    94  28.1  0.167   21      0\n",
       "4     0   137    40    35   168  43.1  2.288   33      1"
      ]
     },
     "execution_count": 5,
     "metadata": {},
     "output_type": "execute_result"
    }
   ],
   "source": [
    "df=pd.read_csv('diabetes.csv')\n",
    "df.head()"
   ]
  },
  {
   "cell_type": "code",
   "execution_count": 7,
   "id": "9193970f-309a-4daf-8541-245633283696",
   "metadata": {},
   "outputs": [
    {
     "data": {
      "text/plain": [
       "array([[ 0.63994726,  0.84832379,  0.14964075, ...,  0.20401277,\n",
       "         0.46849198,  1.4259954 ],\n",
       "       [-0.84488505, -1.12339636, -0.16054575, ..., -0.68442195,\n",
       "        -0.36506078, -0.19067191],\n",
       "       [ 1.23388019,  1.94372388, -0.26394125, ..., -1.10325546,\n",
       "         0.60439732, -0.10558415],\n",
       "       ...,\n",
       "       [ 0.3429808 ,  0.00330087,  0.14964075, ..., -0.73518964,\n",
       "        -0.68519336, -0.27575966],\n",
       "       [-0.84488505,  0.1597866 , -0.47073225, ..., -0.24020459,\n",
       "        -0.37110101,  1.17073215],\n",
       "       [-0.84488505, -0.8730192 ,  0.04624525, ..., -0.20212881,\n",
       "        -0.47378505, -0.87137393]])"
      ]
     },
     "execution_count": 7,
     "metadata": {},
     "output_type": "execute_result"
    }
   ],
   "source": [
    "# Features and target\n",
    "x=df.drop('class',axis=1)\n",
    "y=df['class']\n",
    "\n",
    "# Standardize features\n",
    "scaler=StandardScaler()\n",
    "x_scaled=scaler.fit_transform(x)\n",
    "x_scaled"
   ]
  },
  {
   "cell_type": "code",
   "execution_count": 9,
   "id": "82e2a750-dd57-4b99-a7d9-ece911272d6c",
   "metadata": {},
   "outputs": [],
   "source": [
    "# perform train, test, spliton the dataset\n",
    "x_train,x_test,y_train,y_test=train_test_split(x_scaled,y,test_size=0.8,random_state=42)"
   ]
  },
  {
   "cell_type": "code",
   "execution_count": 11,
   "id": "91d865e0-7476-451d-bd1e-eb80676a1d4d",
   "metadata": {},
   "outputs": [],
   "source": [
    "# Instantiate the model and defne and parameters\n",
    "\n",
    "gbc=GradientBoostingClassifier(random_state=42)\n",
    "\n",
    "# set up KFold cross-validation\n",
    "kfold=StratifiedKFold(n_splits=5, shuffle=True, random_state=42)\n",
    "\n",
    "# hyperparameter grid\n",
    "\n",
    "param_grid={\n",
    "    'n_estimators':[50,100,150], \n",
    "    'learning_rate':[0.01,0.1,0.2],\n",
    "    'max_depth':[3,4,5],\n",
    "    'subsample':[0.8,1.0]\n",
    "}\n",
    "\n",
    "# Grid search with cross validation\n",
    "grid_search=GridSearchCV(estimator=gbc,\n",
    "                        param_grid=param_grid,\n",
    "                        cv=kfold,\n",
    "                        scoring='recall',\n",
    "                        n_jobs=-1,\n",
    "                        verbose=1)"
   ]
  },
  {
   "cell_type": "code",
   "execution_count": 13,
   "id": "c184674c-f67e-42df-bf1e-a6fbc321b33a",
   "metadata": {},
   "outputs": [
    {
     "name": "stdout",
     "output_type": "stream",
     "text": [
      "Fitting 5 folds for each of 54 candidates, totalling 270 fits\n",
      "Best Parameters: {'learning_rate': 0.2, 'max_depth': 3, 'n_estimators': 150, 'subsample': 0.8}\n",
      "Best cross-validation Recall 0.6257575757575757\n"
     ]
    }
   ],
   "source": [
    "# fit the model\n",
    "grid_search.fit(x_train,y_train)\n",
    "\n",
    "# best parameters and score\n",
    "print('Best Parameters:',grid_search.best_params_)\n",
    "print('Best cross-validation Recall',grid_search.best_score_)"
   ]
  },
  {
   "cell_type": "code",
   "execution_count": 17,
   "id": "aced146c-eabc-4728-b5ad-9f7cbb08d5b8",
   "metadata": {},
   "outputs": [
    {
     "name": "stdout",
     "output_type": "stream",
     "text": [
      "\n",
      " Confusion Matrix:\n",
      " [[310  95]\n",
      " [ 82 128]]\n",
      "\n",
      "Classification Report:\n",
      "               precision    recall  f1-score   support\n",
      "\n",
      "           0       0.79      0.77      0.78       405\n",
      "           1       0.57      0.61      0.59       210\n",
      "\n",
      "    accuracy                           0.71       615\n",
      "   macro avg       0.68      0.69      0.68       615\n",
      "weighted avg       0.72      0.71      0.71       615\n",
      "\n"
     ]
    }
   ],
   "source": [
    "# Evaluate on the test data suing best estimators\n",
    "\n",
    "best_model=grid_search.best_estimator_\n",
    "y_pred=best_model.predict(x_test)\n",
    "\n",
    "print('\\n Confusion Matrix:\\n',confusion_matrix(y_test,y_pred))\n",
    "print('\\nClassification Report:\\n',classification_report(y_test,y_pred))"
   ]
  },
  {
   "cell_type": "markdown",
   "id": "d452fe23-46ed-4a5a-a832-7567b2d9a620",
   "metadata": {},
   "source": [
    "## identify feature importance scores using XGBClassifier"
   ]
  },
  {
   "cell_type": "code",
   "execution_count": 20,
   "id": "364204b4-4f72-48e8-81a0-1039717c630c",
   "metadata": {},
   "outputs": [
    {
     "data": {
      "text/plain": [
       "array([0.08968868, 0.26073071, 0.05878982, 0.05376621, 0.08816734,\n",
       "       0.16270506, 0.17732721, 0.10882496])"
      ]
     },
     "execution_count": 20,
     "metadata": {},
     "output_type": "execute_result"
    }
   ],
   "source": [
    "best_model.feature_importances_"
   ]
  },
  {
   "cell_type": "code",
   "execution_count": null,
   "id": "bd0a2278-536e-4d0b-b6b5-50433e33eaf0",
   "metadata": {},
   "outputs": [],
   "source": []
  }
 ],
 "metadata": {
  "kernelspec": {
   "display_name": "Python 3 (ipykernel)",
   "language": "python",
   "name": "python3"
  },
  "language_info": {
   "codemirror_mode": {
    "name": "ipython",
    "version": 3
   },
   "file_extension": ".py",
   "mimetype": "text/x-python",
   "name": "python",
   "nbconvert_exporter": "python",
   "pygments_lexer": "ipython3",
   "version": "3.12.4"
  }
 },
 "nbformat": 4,
 "nbformat_minor": 5
}
