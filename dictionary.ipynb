{
 "cells": [
  {
   "cell_type": "code",
   "execution_count": 14,
   "id": "13ea46b5-6dd6-4d7e-bc61-86eaff515ab5",
   "metadata": {},
   "outputs": [
    {
     "name": "stdout",
     "output_type": "stream",
     "text": [
      "[10, 20]\n",
      "30\n"
     ]
    }
   ],
   "source": [
    "a=[['apple',10],['banana',7],['cherry',8],['dragon',6],['graph',5],['apple',20]]\n",
    "apple_order=[]\n",
    "for i in a:\n",
    "    if i[0]=='apple':\n",
    "        apple_order.append(i[1])\n",
    "print(apple_order)\n",
    "print(sum(apple_order))\n",
    "    "
   ]
  },
  {
   "cell_type": "code",
   "execution_count": 24,
   "id": "5f449ac8-6da1-48c7-ae3e-50588d947a46",
   "metadata": {},
   "outputs": [
    {
     "name": "stdout",
     "output_type": "stream",
     "text": [
      "(3, 50, 7)\n",
      "<class 'tuple'>\n"
     ]
    }
   ],
   "source": [
    "tup1=(3,50,7)\n",
    "print(tup1)\n",
    "print(type(tup1))"
   ]
  },
  {
   "cell_type": "code",
   "execution_count": 20,
   "id": "f73f5fcd-4c05-40d5-be52-16ece4ee7e38",
   "metadata": {},
   "outputs": [
    {
     "name": "stdout",
     "output_type": "stream",
     "text": [
      "(10, 20, 40, 'hi', 80)\n",
      "<class 'tuple'>\n"
     ]
    }
   ],
   "source": [
    "tup2=10,20,40,'hi',80\n",
    "print(tup2)\n",
    "print(type(tup2))"
   ]
  },
  {
   "cell_type": "code",
   "execution_count": 19,
   "id": "cb118dfd-27db-4ead-84a8-23257e331928",
   "metadata": {},
   "outputs": [
    {
     "name": "stdout",
     "output_type": "stream",
     "text": [
      "(1, 2, 3, 4)\n",
      "<class 'tuple'>\n"
     ]
    }
   ],
   "source": [
    "tup3=tuple([1,2,3,4])\n",
    "print(tup3)\n",
    "print(type(tup3))"
   ]
  },
  {
   "cell_type": "code",
   "execution_count": 29,
   "id": "5519c76a-253d-4b6e-b7c0-06064fc819a5",
   "metadata": {},
   "outputs": [
    {
     "data": {
      "text/plain": [
       "3"
      ]
     },
     "execution_count": 29,
     "metadata": {},
     "output_type": "execute_result"
    }
   ],
   "source": [
    "tup4=(10,101,10,12,10,80)\n",
    "tup4.count(10)"
   ]
  },
  {
   "cell_type": "code",
   "execution_count": 1,
   "id": "7c2e6a68-faa8-4940-b459-98c627e1ce92",
   "metadata": {},
   "outputs": [
    {
     "name": "stdout",
     "output_type": "stream",
     "text": [
      "{'a': 30, 'b': 40}\n"
     ]
    }
   ],
   "source": [
    "a={'a':30,'b':40}\n",
    "print(a)"
   ]
  },
  {
   "cell_type": "code",
   "execution_count": 2,
   "id": "107968b8-baea-40b4-b602-e0548fdce4da",
   "metadata": {},
   "outputs": [
    {
     "data": {
      "text/plain": [
       "{'a': 10, 'b': 10}"
      ]
     },
     "execution_count": 2,
     "metadata": {},
     "output_type": "execute_result"
    }
   ],
   "source": [
    "a=dict(a=10,b=10)\n",
    "a"
   ]
  },
  {
   "cell_type": "code",
   "execution_count": 3,
   "id": "202d7722-8ccb-4f1f-82c6-1be91025fd6b",
   "metadata": {},
   "outputs": [
    {
     "name": "stdout",
     "output_type": "stream",
     "text": [
      "dict_keys(['a', 'b', 'c', 'd'])\n",
      "dict_values([10, 20, 30, 40])\n",
      "dict_items([('a', 10), ('b', 20), ('c', 30), ('d', 40)])\n"
     ]
    }
   ],
   "source": [
    "d1={'a':10,'b':20,'c':30,'d':40}\n",
    "print(d1.keys())\n",
    "print(d1.values())\n",
    "print(d1.items())"
   ]
  },
  {
   "cell_type": "code",
   "execution_count": 4,
   "id": "6152d018-99bc-4bfe-808b-151f278ed7df",
   "metadata": {},
   "outputs": [
    {
     "data": {
      "text/plain": [
       "['__class__',\n",
       " '__class_getitem__',\n",
       " '__contains__',\n",
       " '__delattr__',\n",
       " '__delitem__',\n",
       " '__dir__',\n",
       " '__doc__',\n",
       " '__eq__',\n",
       " '__format__',\n",
       " '__ge__',\n",
       " '__getattribute__',\n",
       " '__getitem__',\n",
       " '__getstate__',\n",
       " '__gt__',\n",
       " '__hash__',\n",
       " '__init__',\n",
       " '__init_subclass__',\n",
       " '__ior__',\n",
       " '__iter__',\n",
       " '__le__',\n",
       " '__len__',\n",
       " '__lt__',\n",
       " '__ne__',\n",
       " '__new__',\n",
       " '__or__',\n",
       " '__reduce__',\n",
       " '__reduce_ex__',\n",
       " '__repr__',\n",
       " '__reversed__',\n",
       " '__ror__',\n",
       " '__setattr__',\n",
       " '__setitem__',\n",
       " '__sizeof__',\n",
       " '__str__',\n",
       " '__subclasshook__',\n",
       " 'clear',\n",
       " 'copy',\n",
       " 'fromkeys',\n",
       " 'get',\n",
       " 'items',\n",
       " 'keys',\n",
       " 'pop',\n",
       " 'popitem',\n",
       " 'setdefault',\n",
       " 'update',\n",
       " 'values']"
      ]
     },
     "execution_count": 4,
     "metadata": {},
     "output_type": "execute_result"
    }
   ],
   "source": [
    "dir(dict)\n"
   ]
  },
  {
   "cell_type": "code",
   "execution_count": 5,
   "id": "37266e2a-6de0-432f-a0ac-cc7163ee70ee",
   "metadata": {},
   "outputs": [
    {
     "data": {
      "text/plain": [
       "{'virat': 90, 'rohit': 100, 'rahul': 70, 'dhoni': 100, 'jadeja': 60}"
      ]
     },
     "execution_count": 5,
     "metadata": {},
     "output_type": "execute_result"
    }
   ],
   "source": [
    "scores={'virat':90,'rohit':100,'rahul':70,'dhoni':100,'jadeja':60}\n",
    "scores"
   ]
  },
  {
   "cell_type": "code",
   "execution_count": 6,
   "id": "56169c51-dc88-49f6-b50d-b79a7be78938",
   "metadata": {},
   "outputs": [
    {
     "data": {
      "text/plain": [
       "{'virat': 90,\n",
       " 'rohit': 100,\n",
       " 'rahul': 70,\n",
       " 'dhoni': 100,\n",
       " 'jadeja': 60,\n",
       " 'aswin': 60}"
      ]
     },
     "execution_count": 6,
     "metadata": {},
     "output_type": "execute_result"
    }
   ],
   "source": [
    "#add another key values pairs\n",
    "scores['aswin']=60\n",
    "scores"
   ]
  },
  {
   "cell_type": "code",
   "execution_count": 7,
   "id": "cc68968a-7ecd-4d26-b0c4-647fc0b06a56",
   "metadata": {},
   "outputs": [
    {
     "data": {
      "text/plain": [
       "{'virat': 90,\n",
       " 'rohit': 100,\n",
       " 'rahul': 70,\n",
       " 'dhoni': 100,\n",
       " 'jadeja': 80,\n",
       " 'aswin': 60}"
      ]
     },
     "execution_count": 7,
     "metadata": {},
     "output_type": "execute_result"
    }
   ],
   "source": [
    "#update the scores(values)\n",
    "scores.update({'jadeja':80})\n",
    "scores"
   ]
  },
  {
   "cell_type": "code",
   "execution_count": 9,
   "id": "ba32b9b8-e219-41a0-bdd1-61185812c5f0",
   "metadata": {},
   "outputs": [
    {
     "data": {
      "text/plain": [
       "{'virat': 90,\n",
       " 'rohit': 100,\n",
       " 'rahul': 80,\n",
       " 'dhoni': 100,\n",
       " 'jadeja': 80,\n",
       " 'aswin': 60,\n",
       " 'raju': 50}"
      ]
     },
     "execution_count": 9,
     "metadata": {},
     "output_type": "execute_result"
    }
   ],
   "source": [
    "#update method can modifies the exiting data and also can assisgns or add new key values pairs\n",
    "scores.update({'rahul':80, 'raju':50})\n",
    "scores"
   ]
  },
  {
   "cell_type": "code",
   "execution_count": 12,
   "id": "65b8bc4c-69fc-4006-ab7a-961fdb99c294",
   "metadata": {},
   "outputs": [
    {
     "data": {
      "text/plain": [
       "{'virat': 90,\n",
       " 'rohit': 100,\n",
       " 'rahul': 80,\n",
       " 'dhoni': 100,\n",
       " 'jadeja': 80,\n",
       " 'aswin': 60,\n",
       " 'raju': 50,\n",
       " 'ramu': 70}"
      ]
     },
     "execution_count": 12,
     "metadata": {},
     "output_type": "execute_result"
    }
   ],
   "source": [
    "#setdefault method can only take 1 key values pair\n",
    "#if the value is already there in the dictionary then it just avoid it and if there is new key values provided then it will be added to thh dictionary\n",
    "scores.setdefault('ramu',70)\n",
    "scores"
   ]
  },
  {
   "cell_type": "code",
   "execution_count": 13,
   "id": "76dfe2ac-aecb-44e6-b64d-33a01c4699fb",
   "metadata": {},
   "outputs": [
    {
     "data": {
      "text/plain": [
       "{'virat': 90,\n",
       " 'rohit': 100,\n",
       " 'rahul': 80,\n",
       " 'dhoni': 100,\n",
       " 'jadeja': 80,\n",
       " 'aswin': 60,\n",
       " 'raju': 50}"
      ]
     },
     "execution_count": 13,
     "metadata": {},
     "output_type": "execute_result"
    }
   ],
   "source": [
    "#removes last item\n",
    "scores.popitem()\n",
    "scores"
   ]
  },
  {
   "cell_type": "code",
   "execution_count": 14,
   "id": "36fbcbe8-363e-495f-acce-215dbda67768",
   "metadata": {},
   "outputs": [
    {
     "data": {
      "text/plain": [
       "{'virat': 90,\n",
       " 'rohit': 100,\n",
       " 'rahul': 80,\n",
       " 'dhoni': 100,\n",
       " 'jadeja': 80,\n",
       " 'aswin': 60}"
      ]
     },
     "execution_count": 14,
     "metadata": {},
     "output_type": "execute_result"
    }
   ],
   "source": [
    "#removes specified item\n",
    "scores.pop('raju')\n",
    "scores"
   ]
  },
  {
   "cell_type": "code",
   "execution_count": 15,
   "id": "c704b4fe-4e2e-43d0-8fbe-c3084be7251a",
   "metadata": {},
   "outputs": [
    {
     "data": {
      "text/plain": [
       "100"
      ]
     },
     "execution_count": 15,
     "metadata": {},
     "output_type": "execute_result"
    }
   ],
   "source": [
    "#used to retrive the data\n",
    "scores.get('dhoni')"
   ]
  },
  {
   "cell_type": "code",
   "execution_count": 18,
   "id": "0e0aeb92-5b72-4dd2-9b5a-8f731280b225",
   "metadata": {},
   "outputs": [
    {
     "data": {
      "text/plain": [
       "{'a': 20, 'v': 20, 'f': 20, 'b': 20}"
      ]
     },
     "execution_count": 18,
     "metadata": {},
     "output_type": "execute_result"
    }
   ],
   "source": [
    "#creates a dictionary from the list\n",
    "#id fromkeys(list)then the values will be none if we give some values then it will represent the value\n",
    "list=['a','v','f','b']\n",
    "mydict=dict.fromkeys(list,20)\n",
    "mydict"
   ]
  },
  {
   "cell_type": "code",
   "execution_count": 20,
   "id": "6311c68d-5364-4192-9479-4e3a17d4aa85",
   "metadata": {},
   "outputs": [
    {
     "data": {
      "text/plain": [
       "{'a': 10, 'v': 20, 'f': 20, 'b': 50}"
      ]
     },
     "execution_count": 20,
     "metadata": {},
     "output_type": "execute_result"
    }
   ],
   "source": [
    "mydict.update({'a':10,'b':50})\n",
    "mydict"
   ]
  },
  {
   "cell_type": "code",
   "execution_count": null,
   "id": "1f5fbd2a-f074-4a11-8373-a7d9866e3ddc",
   "metadata": {},
   "outputs": [],
   "source": []
  }
 ],
 "metadata": {
  "kernelspec": {
   "display_name": "Python 3 (ipykernel)",
   "language": "python",
   "name": "python3"
  },
  "language_info": {
   "codemirror_mode": {
    "name": "ipython",
    "version": 3
   },
   "file_extension": ".py",
   "mimetype": "text/x-python",
   "name": "python",
   "nbconvert_exporter": "python",
   "pygments_lexer": "ipython3",
   "version": "3.12.7"
  }
 },
 "nbformat": 4,
 "nbformat_minor": 5
}
