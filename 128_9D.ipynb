{
 "cells": [
  {
   "cell_type": "code",
   "execution_count": 1,
   "id": "bd502a00-994a-4075-bf24-ee29b6fb9731",
   "metadata": {},
   "outputs": [],
   "source": [
    "# compute"
   ]
  },
  {
   "cell_type": "code",
   "execution_count": 3,
   "id": "0bba8cb0-7dca-4be4-8352-43ed7b4d4f2c",
   "metadata": {},
   "outputs": [],
   "source": [
    "import numpy as np\n",
    "\n",
    "def avg_value(*n):\n",
    "    #l1=len(n)\n",
    "    avegerage=np.mean(n) #sum(n)/l1\n",
    "    return avegerage"
   ]
  },
  {
   "cell_type": "code",
   "execution_count": 5,
   "id": "a9aace81-fd28-4b0b-aa88-85b5dee69401",
   "metadata": {},
   "outputs": [
    {
     "data": {
      "text/plain": [
       "np.float64(35.0)"
      ]
     },
     "execution_count": 5,
     "metadata": {},
     "output_type": "execute_result"
    }
   ],
   "source": [
    "avg_value(10,20,30,40,50,60)"
   ]
  },
  {
   "cell_type": "code",
   "execution_count": 7,
   "id": "ca2e1772-5a8b-41ab-9f4a-eec6c6dba554",
   "metadata": {},
   "outputs": [],
   "source": [
    "import numpy as np\n",
    "\n",
    "def median_value(*n):\n",
    "    md=np.median(n)\n",
    "    return md"
   ]
  },
  {
   "cell_type": "code",
   "execution_count": 13,
   "id": "751e668f-afc1-4bf8-a6d4-c75379d516a1",
   "metadata": {},
   "outputs": [
    {
     "data": {
      "text/plain": [
       "np.float64(35.0)"
      ]
     },
     "execution_count": 13,
     "metadata": {},
     "output_type": "execute_result"
    }
   ],
   "source": [
    "median_value(10,20,30,40,50,60)\n",
    "# logic if middle values is two then add both and divide them with 2\n"
   ]
  },
  {
   "cell_type": "code",
   "execution_count": 15,
   "id": "147e0ec5-0a59-4de6-815b-c17ec11098a4",
   "metadata": {},
   "outputs": [
    {
     "data": {
      "text/plain": [
       "np.float64(40.0)"
      ]
     },
     "execution_count": 15,
     "metadata": {},
     "output_type": "execute_result"
    }
   ],
   "source": [
    "median_value(10,20,30,40,50,60,70)\n",
    "# if it consist only one in middle that is final median value"
   ]
  },
  {
   "cell_type": "code",
   "execution_count": null,
   "id": "a145d78b-a0c1-479e-8b4d-3e636157f80d",
   "metadata": {},
   "outputs": [],
   "source": []
  }
 ],
 "metadata": {
  "kernelspec": {
   "display_name": "Python 3 (ipykernel)",
   "language": "python",
   "name": "python3"
  },
  "language_info": {
   "codemirror_mode": {
    "name": "ipython",
    "version": 3
   },
   "file_extension": ".py",
   "mimetype": "text/x-python",
   "name": "python",
   "nbconvert_exporter": "python",
   "pygments_lexer": "ipython3",
   "version": "3.12.4"
  }
 },
 "nbformat": 4,
 "nbformat_minor": 5
}
