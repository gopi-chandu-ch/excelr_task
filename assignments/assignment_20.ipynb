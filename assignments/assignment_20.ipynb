{
 "cells": [
  {
   "cell_type": "code",
   "execution_count": 23,
   "id": "8ac0a207-708e-4c2c-a458-963ecab771bc",
   "metadata": {},
   "outputs": [
    {
     "name": "stderr",
     "output_type": "stream",
     "text": [
      "C:\\Users\\fUJITSU\\AppData\\Local\\Temp\\ipykernel_7312\\2874294755.py:22: FutureWarning: A value is trying to be set on a copy of a DataFrame or Series through chained assignment using an inplace method.\n",
      "The behavior will change in pandas 3.0. This inplace method will never work because the intermediate object on which we are setting values always behaves as a copy.\n",
      "\n",
      "For example, when doing 'df[col].method(value, inplace=True)', try using 'df.method({col: value}, inplace=True)' or df[col] = df[col].method(value) instead, to perform the operation inplace on the original object.\n",
      "\n",
      "\n",
      "  df['Review_Text'].fillna('No Review', inplace=True)\n"
     ]
    },
    {
     "data": {
      "image/png": "[encoded data removed]",
      "text/plain": [
       "<Figure size 1000x500 with 1 Axes>"
      ]
     },
     "metadata": {},
     "output_type": "display_data"
    },
    {
     "data": {
      "image/png": "[encoded data removed]",
      "text/plain": [
       "<Figure size 1000x500 with 1 Axes>"
      ]
     },
     "metadata": {},
     "output_type": "display_data"
    },
    {
     "name": "stdout",
     "output_type": "stream",
     "text": [
      "   Order_ID  Product_Category  Product_Price  Customer_Age  Rating  \\\n",
      "0         1                 2         3262.0          58.0     3.0   \n",
      "1         2                 2          214.0          20.0     3.0   \n",
      "2         3                 4         3429.0          51.0     2.0   \n",
      "3         4                 1         4568.0          35.0     3.0   \n",
      "4         5                 3         2237.0          32.0     4.0   \n",
      "\n",
      "           Review_Text  Order_Date  \n",
      "0  Would not recommend  2023-01-01  \n",
      "1   Excellent product!  2023-01-02  \n",
      "2      Value for money  2023-01-03  \n",
      "3      Value for money  2023-01-04  \n",
      "4      Not as expected  2023-01-05  \n"
     ]
    }
   ],
   "source": [
    "import pandas as pd\n",
    "import numpy as np\n",
    "import seaborn as sns\n",
    "import matplotlib.pyplot as plt\n",
    "from sklearn.impute import SimpleImputer\n",
    "from sklearn.preprocessing import LabelEncoder\n",
    "\n",
    "# 1. Load the dataset\n",
    "df = pd.read_csv('Day 20_E-Commerce_Data.csv')\n",
    "\n",
    "# 2. Handle missing values\n",
    "# 2.1 Impute missing 'Customer_Age' (numerical) with Mean\n",
    "age_imputer = SimpleImputer(strategy='mean')\n",
    "df['Customer_Age'] = age_imputer.fit_transform(df[['Customer_Age']])\n",
    "\n",
    "# 2.2 Impute missing 'Rating' (numerical) with Median\n",
    "rating_imputer = SimpleImputer(strategy='median')\n",
    "df['Rating'] = rating_imputer.fit_transform(df[['Rating']])\n",
    "\n",
    "# 2.3 Handle missing 'Review_Text' (textual data)\n",
    "# For textual data, we can impute missing values with a placeholder string (e.g., \"No Review\")\n",
    "df['Review_Text'].fillna('No Review', inplace=True)\n",
    "\n",
    "# 3. Detect and remove duplicates\n",
    "# Find and remove duplicated rows based on all columns (or specific ones)\n",
    "df.drop_duplicates(inplace=True)\n",
    "\n",
    "# 4. Handle inconsistent data\n",
    "# 4.1 Standardize 'Rating' values (ensure they are between 1-5)\n",
    "df['Rating'] = df['Rating'].clip(1, 5)  # Ensure ratings are within the range [1, 5]\n",
    "\n",
    "# 4.2 Correct spelling inconsistencies in 'Product_Category'\n",
    "df['Product_Category'] = df['Product_Category'].str.strip().str.lower()  # Lowercase and remove leading/trailing spaces\n",
    "\n",
    "# 5. Identify and handle outliers\n",
    "# Use boxplot to identify outliers in 'Product_Price' and 'Rating'\n",
    "plt.figure(figsize=(10, 5))\n",
    "sns.boxplot(x=df['Product_Price'])\n",
    "plt.title('Product Price Distribution')\n",
    "plt.show()\n",
    "\n",
    "plt.figure(figsize=(10, 5))\n",
    "sns.boxplot(x=df['Rating'])\n",
    "plt.title('Rating Distribution')\n",
    "plt.show()\n",
    "\n",
    "# Identify outliers using quantiles (1.5*IQR rule)\n",
    "Q1_price = df['Product_Price'].quantile(0.25)\n",
    "Q3_price = df['Product_Price'].quantile(0.75)\n",
    "IQR_price = Q3_price - Q1_price\n",
    "price_outliers = df[(df['Product_Price'] < (Q1_price - 1.5 * IQR_price)) | (df['Product_Price'] > (Q3_price + 1.5 * IQR_price))]\n",
    "\n",
    "Q1_rating = df['Rating'].quantile(0.25)\n",
    "Q3_rating = df['Rating'].quantile(0.75)\n",
    "IQR_rating = Q3_rating - Q1_rating\n",
    "rating_outliers = df[(df['Rating'] < (Q1_rating - 1.5 * IQR_rating)) | (df['Rating'] > (Q3_rating + 1.5 * IQR_rating))]\n",
    "\n",
    "# Remove outliers or apply any transformation (optional)\n",
    "df = df[(df['Product_Price'] >= (Q1_price - 1.5 * IQR_price)) & (df['Product_Price'] <= (Q3_price + 1.5 * IQR_price))]\n",
    "df = df[(df['Rating'] >= (Q1_rating - 1.5 * IQR_rating)) & (df['Rating'] <= (Q3_rating + 1.5 * IQR_rating))]\n",
    "\n",
    "# 6. Prepare cleaned data for analysis\n",
    "# Convert categorical data into numerical format (e.g., encoding 'Product_Category')\n",
    "label_encoder = LabelEncoder()\n",
    "df['Product_Category'] = label_encoder.fit_transform(df['Product_Category'])\n",
    "\n",
    "# 7. Save the final cleaned dataset as a CSV file\n",
    "df.to_csv('Cleaned_E_Commerce_Data.csv', index=False)\n",
    "\n",
    "# Output the first few rows to verify the cleaning process\n",
    "print(df.head())\n"
   ]
  },
  {
   "cell_type": "code",
   "execution_count": null,
   "id": "e14bf96e-cdf8-40f7-907e-ec85d5677dc9",
   "metadata": {},
   "outputs": [],
   "source": []
  },
  {
   "cell_type": "code",
   "execution_count": null,
   "id": "41e07fc1-1eb5-41e5-967e-c181303b2c69",
   "metadata": {},
   "outputs": [],
   "source": []
  }
 ],
 "metadata": {
  "kernelspec": {
   "display_name": "Python 3 (ipykernel)",
   "language": "python",
   "name": "python3"
  },
  "language_info": {
   "codemirror_mode": {
    "name": "ipython",
    "version": 3
   },
   "file_extension": ".py",
   "mimetype": "text/x-python",
   "name": "python",
   "nbconvert_exporter": "python",
   "pygments_lexer": "ipython3",
   "version": "3.12.4"
  }
 },
 "nbformat": 4,
 "nbformat_minor": 5
}
