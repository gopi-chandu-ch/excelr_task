{
 "cells": [
  {
   "cell_type": "code",
   "execution_count": 1,
   "id": "29f8b9c2-25b6-4fdd-971c-e7ef761de92b",
   "metadata": {},
   "outputs": [
    {
     "name": "stdout",
     "output_type": "stream",
     "text": [
      "First 5 rows of the dataset:\n",
      "         Date       Account_Type    Branch Transaction_Type  \\\n",
      "0  2023-01-19      Fixed Deposit   Central     Loan Payment   \n",
      "1  2023-01-16            Current    Uptown       Withdrawal   \n",
      "2  2023-01-10            Current    Uptown     Loan Payment   \n",
      "3  2023-01-18            Savings    Uptown     Loan Payment   \n",
      "4  2023-01-14  Recurring Deposit  Suburban     Loan Payment   \n",
      "\n",
      "   Transaction_Amount  Account_Balance  \n",
      "0              985.51          6839.59  \n",
      "1              641.43          8908.39  \n",
      "2             3363.85         12428.67  \n",
      "3             1914.60          5776.63  \n",
      "4             2788.57          4779.04   \n",
      "\n",
      "Basic statistics of numerical columns:\n",
      "       Transaction_Amount  Account_Balance\n",
      "count           20.000000        20.000000\n",
      "mean          2705.829500      7967.766500\n",
      "std           1429.829787      2770.248821\n",
      "min            641.430000      2592.160000\n",
      "25%           1482.085000      6460.127500\n",
      "50%           2567.645000      7905.275000\n",
      "75%           4121.525000      9127.702500\n",
      "max           4683.640000     12836.510000 \n",
      "\n",
      "Missing values in the dataset:\n",
      "Date                  0\n",
      "Account_Type          0\n",
      "Branch                0\n",
      "Transaction_Type      0\n",
      "Transaction_Amount    0\n",
      "Account_Balance       0\n",
      "dtype: int64\n"
     ]
    }
   ],
   "source": [
    "import pandas as pd\n",
    "\n",
    "file_path = \"Day_9_banking_data.csv\"\n",
    "banking_data = pd.read_csv(file_path)\n",
    "\n",
    "# 1. Display the first 5 rows of the dataset\n",
    "print(\"First 5 rows of the dataset:\")\n",
    "print(banking_data.head(), \"\\n\")\n",
    "\n",
    "# 2. Use .describe() to generate basic statistics of numerical columns\n",
    "print(\"Basic statistics of numerical columns:\")\n",
    "print(banking_data.describe(), \"\\n\")\n",
    "\n",
    "# 3. Check for missing values in the dataset\n",
    "print(\"Missing values in the dataset:\")\n",
    "print(banking_data.isnull().sum())\n"
   ]
  },
  {
   "cell_type": "code",
   "execution_count": 3,
   "id": "177b6e0e-f7a5-44df-914d-5fe67da5c687",
   "metadata": {},
   "outputs": [
    {
     "name": "stdout",
     "output_type": "stream",
     "text": [
      "Grouped by Account_Type:\n",
      "                   Total_Transaction_Amount  Average_Account_Balance\n",
      "Account_Type                                                        \n",
      "Current                            15052.57              9893.404000\n",
      "Fixed Deposit                      14102.59              6120.380000\n",
      "Recurring Deposit                  15179.99              7627.283333\n",
      "Savings                             9781.44              9134.110000 \n",
      "\n",
      "Grouped by Branch:\n",
      "          Total_Transactions  Average_Transaction_Amount\n",
      "Branch                                                  \n",
      "Central                    8                 2942.338750\n",
      "Downtown                   3                 3188.703333\n",
      "Suburban                   5                 2773.278000\n",
      "Uptown                     4                 1786.345000\n"
     ]
    }
   ],
   "source": [
    "import pandas as pd\n",
    "\n",
    "file_path = \"Day_9_banking_data.csv\"\n",
    "banking_data = pd.read_csv(file_path)\n",
    "\n",
    "# 1. Group the data by Account_Type and calculate:\n",
    "#    - The total sum of Transaction_Amount.\n",
    "#    - The average Account_Balance for each account type.\n",
    "grouped_by_account_type = banking_data.groupby(\"Account_Type\").agg({\n",
    "    \"Transaction_Amount\": \"sum\",\n",
    "    \"Account_Balance\": \"mean\"\n",
    "})\n",
    "grouped_by_account_type.rename(\n",
    "    columns={\n",
    "        \"Transaction_Amount\": \"Total_Transaction_Amount\",\n",
    "        \"Account_Balance\": \"Average_Account_Balance\"\n",
    "    }, inplace=True\n",
    ")\n",
    "print(\"Grouped by Account_Type:\")\n",
    "print(grouped_by_account_type, \"\\n\")\n",
    "\n",
    "# 2. Group the data by Branch and calculate:\n",
    "#    - The total number of transactions per branch.\n",
    "#    - The average transaction amount per branch.\n",
    "grouped_by_branch = banking_data.groupby(\"Branch\").agg({\n",
    "    \"Transaction_Amount\": [\"count\", \"mean\"]\n",
    "})\n",
    "grouped_by_branch.columns = [\"Total_Transactions\", \"Average_Transaction_Amount\"]\n",
    "print(\"Grouped by Branch:\")\n",
    "print(grouped_by_branch)\n"
   ]
  },
  {
   "cell_type": "code",
   "execution_count": null,
   "id": "f933ab5d-5d6e-44a9-90a6-605787045f70",
   "metadata": {},
   "outputs": [],
   "source": []
  }
 ],
 "metadata": {
  "kernelspec": {
   "display_name": "Python 3 (ipykernel)",
   "language": "python",
   "name": "python3"
  },
  "language_info": {
   "codemirror_mode": {
    "name": "ipython",
    "version": 3
   },
   "file_extension": ".py",
   "mimetype": "text/x-python",
   "name": "python",
   "nbconvert_exporter": "python",
   "pygments_lexer": "ipython3",
   "version": "3.12.4"
  }
 },
 "nbformat": 4,
 "nbformat_minor": 5
}
