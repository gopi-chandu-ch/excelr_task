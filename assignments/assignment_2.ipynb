{
 "cells": [
  {
   "cell_type": "code",
   "execution_count": 1,
   "id": "617a05cd-9135-48c7-b964-a126ed7555e5",
   "metadata": {},
   "outputs": [
    {
     "name": "stdout",
     "output_type": "stream",
     "text": [
      "List: [10, 20, 30, 40, 50]\n",
      "First element in the list: 10\n",
      "Third element in the list: 30\n",
      "Last element in the list: 50\n",
      "\n",
      "Tuple: ('apple', 'banana', 'cherry', 'date', 'elderberry')\n",
      "Second element in the tuple: banana\n",
      "Fourth element in the tuple: date\n",
      "Last element in the tuple: elderberry\n",
      "\n",
      "Dictionary: {'name': 'Alice', 'age': 25, 'city': 'New York', 'job': 'Engineer', 'hobby': 'Reading'}\n",
      "Value for key 'name': Alice\n",
      "Value for key 'job': Engineer\n",
      "Value for key 'hobby': Reading\n"
     ]
    }
   ],
   "source": [
    "# Creating a List\n",
    "my_list = [10, 20, 30, 40, 50]\n",
    "print(\"List:\", my_list)\n",
    "\n",
    "# Accessing elements from the list\n",
    "print(\"First element in the list:\", my_list[0])  \n",
    "print(\"Third element in the list:\", my_list[2])  \n",
    "print(\"Last element in the list:\", my_list[-1]) \n",
    "\n",
    "# Creating a Tuple\n",
    "my_tuple = (\"apple\", \"banana\", \"cherry\", \"date\", \"elderberry\")\n",
    "print(\"\\nTuple:\", my_tuple)\n",
    "\n",
    "# Accessing elements from the tuple\n",
    "print(\"Second element in the tuple:\", my_tuple[1])  \n",
    "print(\"Fourth element in the tuple:\", my_tuple[3])  \n",
    "print(\"Last element in the tuple:\", my_tuple[-1])  \n",
    "\n",
    "# Creating a Dictionary\n",
    "my_dict = {\n",
    "    \"name\": \"Alice\",\n",
    "    \"age\": 25,\n",
    "    \"city\": \"New York\",\n",
    "    \"job\": \"Engineer\",\n",
    "    \"hobby\": \"Reading\"\n",
    "}\n",
    "print(\"\\nDictionary:\", my_dict)\n",
    "\n",
    "# Accessing elements from the dictionary\n",
    "print(\"Value for key 'name':\", my_dict[\"name\"]) \n",
    "print(\"Value for key 'job':\", my_dict[\"job\"])   \n",
    "print(\"Value for key 'hobby':\", my_dict[\"hobby\"]) \n"
   ]
  },
  {
   "cell_type": "code",
   "execution_count": null,
   "id": "9a966950-e75b-4005-9e2e-298f196eda8d",
   "metadata": {},
   "outputs": [],
   "source": []
  }
 ],
 "metadata": {
  "kernelspec": {
   "display_name": "Python 3 (ipykernel)",
   "language": "python",
   "name": "python3"
  },
  "language_info": {
   "codemirror_mode": {
    "name": "ipython",
    "version": 3
   },
   "file_extension": ".py",
   "mimetype": "text/x-python",
   "name": "python",
   "nbconvert_exporter": "python",
   "pygments_lexer": "ipython3",
   "version": "3.12.4"
  }
 },
 "nbformat": 4,
 "nbformat_minor": 5
}
