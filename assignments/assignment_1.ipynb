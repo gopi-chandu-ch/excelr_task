{
 "cells": [
  {
   "cell_type": "code",
   "execution_count": 31,
   "id": "84a322ee-f85b-4b9d-8996-d8f6eb954ce3",
   "metadata": {},
   "outputs": [],
   "source": [
    "# Declare variables of different data types"
   ]
  },
  {
   "cell_type": "code",
   "execution_count": 21,
   "id": "5725ff60-ab45-4401-8a96-f0b6db05072c",
   "metadata": {},
   "outputs": [
    {
     "name": "stdout",
     "output_type": "stream",
     "text": [
      "Value: 42\n",
      "Type: <class 'int'>\n"
     ]
    }
   ],
   "source": [
    "integer_var = 42           \n",
    "print(\"Value:\", integer_var)\n",
    "print(\"Type:\", type(integer_var))"
   ]
  },
  {
   "cell_type": "code",
   "execution_count": 15,
   "id": "ad6e0d74-ee04-4b28-b50f-0240b414a76e",
   "metadata": {},
   "outputs": [
    {
     "name": "stdout",
     "output_type": "stream",
     "text": [
      "Value: 3.14\n",
      "Type: <class 'float'>\n"
     ]
    }
   ],
   "source": [
    "float_var = 3.14    \n",
    "print(\"Value:\", float_var)\n",
    "print(\"Type:\", type(float_var))"
   ]
  },
  {
   "cell_type": "code",
   "execution_count": 17,
   "id": "d4871bc6-801f-440f-acf7-5ebfe528cd58",
   "metadata": {},
   "outputs": [
    {
     "name": "stdout",
     "output_type": "stream",
     "text": [
      "Value: Hello, World!\n",
      "Type: <class 'str'>\n"
     ]
    }
   ],
   "source": [
    "string_var = \"Hello, World!\" \n",
    "print(\"Value:\", string_var)\n",
    "print(\"Type:\", type(string_var))"
   ]
  },
  {
   "cell_type": "code",
   "execution_count": null,
   "id": "fff8ba81-5b91-4d83-be85-55dd14dccf3f",
   "metadata": {},
   "outputs": [],
   "source": [
    "boolean_var = True \n",
    "print(\"Value:\", boolean_var)\n",
    "print(\"Type:\", type(boolean_var))\n",
    "\n"
   ]
  }
 ],
 "metadata": {
  "kernelspec": {
   "display_name": "Python 3 (ipykernel)",
   "language": "python",
   "name": "python3"
  },
  "language_info": {
   "codemirror_mode": {
    "name": "ipython",
    "version": 3
   },
   "file_extension": ".py",
   "mimetype": "text/x-python",
   "name": "python",
   "nbconvert_exporter": "python",
   "pygments_lexer": "ipython3",
   "version": "3.12.4"
  }
 },
 "nbformat": 4,
 "nbformat_minor": 5
}
