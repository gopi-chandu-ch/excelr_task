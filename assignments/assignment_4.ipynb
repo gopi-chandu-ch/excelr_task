{
 "cells": [
  {
   "cell_type": "code",
   "execution_count": 1,
   "id": "ea849c7b-faae-4f37-815e-a8b42311e47b",
   "metadata": {},
   "outputs": [
    {
     "name": "stdin",
     "output_type": "stream",
     "text": [
      "Enter a positive integer:  28\n"
     ]
    },
    {
     "name": "stdout",
     "output_type": "stream",
     "text": [
      "The sum of all even numbers between 1 and 28 is: 210\n"
     ]
    }
   ],
   "source": [
    "# even numbers count upto given number\n",
    "n = int(input(\"Enter a positive integer: \"))\n",
    "even_sum = 0\n",
    "for num in range(2, n + 1, 2):  \n",
    "    even_sum += num\n",
    "    \n",
    "print(f\"The sum of all even numbers between 1 and {n} is: {even_sum}\")\n"
   ]
  },
  {
   "cell_type": "code",
   "execution_count": null,
   "id": "e9da16b9-8de0-4c0e-8154-c809e02419ae",
   "metadata": {},
   "outputs": [],
   "source": []
  }
 ],
 "metadata": {
  "kernelspec": {
   "display_name": "Python 3 (ipykernel)",
   "language": "python",
   "name": "python3"
  },
  "language_info": {
   "codemirror_mode": {
    "name": "ipython",
    "version": 3
   },
   "file_extension": ".py",
   "mimetype": "text/x-python",
   "name": "python",
   "nbconvert_exporter": "python",
   "pygments_lexer": "ipython3",
   "version": "3.12.4"
  }
 },
 "nbformat": 4,
 "nbformat_minor": 5
}
