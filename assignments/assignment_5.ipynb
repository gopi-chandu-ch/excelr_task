{
 "cells": [
  {
   "cell_type": "code",
   "execution_count": 1,
   "id": "47e30e77-c9ef-43f7-ab71-584effc66c2d",
   "metadata": {},
   "outputs": [],
   "source": [
    "# 1)Write a Python program that performs the following tasks:"
   ]
  },
  {
   "cell_type": "code",
   "execution_count": 3,
   "id": "8bff672f-fcfd-4786-9bb4-5946cb80e62f",
   "metadata": {},
   "outputs": [
    {
     "name": "stdin",
     "output_type": "stream",
     "text": [
      "Enter a positive integer:  10\n"
     ]
    },
    {
     "name": "stdout",
     "output_type": "stream",
     "text": [
      "\n",
      "Numbers from 1 to 10 :\n",
      "1\n",
      "2\n",
      "3\n",
      "4\n",
      "5\n",
      "6\n",
      "7\n",
      "8\n",
      "9\n",
      "10\n",
      "\n",
      "The sum of all numbers from 1 to 10 is: 55\n"
     ]
    }
   ],
   "source": [
    "\n",
    "n = int(input(\"Enter a positive integer: \"))\n",
    "\n",
    "if n <= 0:\n",
    "    print(\"Please enter a positive integer.\")\n",
    "else:\n",
    "    print(\"\\nNumbers from 1 to\", n, \":\")\n",
    "    for i in range(1, n + 1):\n",
    "        print(i)\n",
    "\n",
    "    sum_numbers = 0\n",
    "    current = 1\n",
    "    while current <= n:\n",
    "        sum_numbers += current\n",
    "        current += 1\n",
    "\n",
    "    print(\"\\nThe sum of all numbers from 1 to\", n, \"is:\", sum_numbers)\n"
   ]
  },
  {
   "cell_type": "code",
   "execution_count": 1,
   "id": "a982f8b3-0f17-40a6-ba50-e7c54af7f095",
   "metadata": {},
   "outputs": [],
   "source": [
    "# 2)Write a Python program that includes a user-defined function to perform the following tasks:"
   ]
  },
  {
   "cell_type": "code",
   "execution_count": 3,
   "id": "192c9f0e-755d-4f85-ae02-69cbf6187c60",
   "metadata": {},
   "outputs": [
    {
     "name": "stdin",
     "output_type": "stream",
     "text": [
      "Enter a positive integer:  4\n"
     ]
    },
    {
     "name": "stdout",
     "output_type": "stream",
     "text": [
      "The square of 4 is 16.\n"
     ]
    }
   ],
   "source": [
    "def calculate_square(n):\n",
    "    return n ** 2\n",
    "\n",
    "number = int(input(\"Enter a positive integer: \"))\n",
    "\n",
    "if number <= 0:\n",
    "    print(\"Please enter a positive integer.\")\n",
    "else:\n",
    "    square = calculate_square(number)\n",
    "    print(f\"The square of {number} is {square}.\")\n"
   ]
  },
  {
   "cell_type": "code",
   "execution_count": null,
   "id": "d08d2ce2-0dcd-441a-9825-b8f90c922ccb",
   "metadata": {},
   "outputs": [],
   "source": []
  }
 ],
 "metadata": {
  "kernelspec": {
   "display_name": "Python 3 (ipykernel)",
   "language": "python",
   "name": "python3"
  },
  "language_info": {
   "codemirror_mode": {
    "name": "ipython",
    "version": 3
   },
   "file_extension": ".py",
   "mimetype": "text/x-python",
   "name": "python",
   "nbconvert_exporter": "python",
   "pygments_lexer": "ipython3",
   "version": "3.12.4"
  }
 },
 "nbformat": 4,
 "nbformat_minor": 5
}
