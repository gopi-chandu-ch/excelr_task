{
 "cells": [
  {
   "cell_type": "code",
   "execution_count": 18,
   "id": "6db89a29-8cbc-43cb-ada3-95af28ecd4d2",
   "metadata": {},
   "outputs": [
    {
     "data": {
      "text/plain": [
       "{1, 2, 3, 4}"
      ]
     },
     "execution_count": 18,
     "metadata": {},
     "output_type": "execute_result"
    }
   ],
   "source": [
    "s1={1,2,3,4,5,6}\n",
    "s2={1,2,3,4}\n",
    "s1&s2#intersection"
   ]
  },
  {
   "cell_type": "code",
   "execution_count": 19,
   "id": "446a5303-3510-49ea-9015-edb5255a408c",
   "metadata": {},
   "outputs": [
    {
     "data": {
      "text/plain": [
       "{1, 2, 3, 4, 5, 6}"
      ]
     },
     "execution_count": 19,
     "metadata": {},
     "output_type": "execute_result"
    }
   ],
   "source": [
    "s1|s2 #union"
   ]
  },
  {
   "cell_type": "code",
   "execution_count": 20,
   "id": "a6a8d616-3b5b-427c-99f5-89ea0afbd35f",
   "metadata": {},
   "outputs": [
    {
     "data": {
      "text/plain": [
       "{5, 6}"
      ]
     },
     "execution_count": 20,
     "metadata": {},
     "output_type": "execute_result"
    }
   ],
   "source": [
    "s1-s2"
   ]
  },
  {
   "cell_type": "code",
   "execution_count": 25,
   "id": "028d209f-e11f-430d-ab3b-bc1a11d88ed4",
   "metadata": {},
   "outputs": [
    {
     "data": {
      "text/plain": [
       "{5, 6}"
      ]
     },
     "execution_count": 25,
     "metadata": {},
     "output_type": "execute_result"
    }
   ],
   "source": [
    "s1.symmetric_difference(s2)"
   ]
  },
  {
   "cell_type": "code",
   "execution_count": 27,
   "id": "ec13d968-cef0-41a9-a84d-01692de23fee",
   "metadata": {},
   "outputs": [
    {
     "data": {
      "text/plain": [
       "{5, 6}"
      ]
     },
     "execution_count": 27,
     "metadata": {},
     "output_type": "execute_result"
    }
   ],
   "source": [
    "s2.symmetric_difference(s1)"
   ]
  },
  {
   "cell_type": "code",
   "execution_count": 41,
   "id": "b80417ed-d3fc-4610-ad56-011aa5013bf6",
   "metadata": {},
   "outputs": [
    {
     "name": "stdout",
     "output_type": "stream",
     "text": [
      "Welcome to aiml class\n",
      " we started with python\n",
      " This is an awesome class\n"
     ]
    }
   ],
   "source": [
    "str1=\"Welcome to aiml class\"\n",
    "str2='we started with python'\n",
    "str3='''This is an awesome class'''\n",
    "print(f\"{str1}\\n {str2}\\n {str3}\")"
   ]
  },
  {
   "cell_type": "code",
   "execution_count": 49,
   "id": "481a3afb-0b91-43b2-9251-d4e14bc07b37",
   "metadata": {},
   "outputs": [
    {
     "name": "stdout",
     "output_type": "stream",
     "text": [
      "<class 'str'>\n"
     ]
    }
   ],
   "source": [
    "print(type(f\"{str1}\\n {str2}\\n {str3}\"))"
   ]
  },
  {
   "cell_type": "code",
   "execution_count": 53,
   "id": "c622b077-c7f6-49a5-9c3b-7bb492100825",
   "metadata": {},
   "outputs": [
    {
     "name": "stdout",
     "output_type": "stream",
     "text": [
      "hi, \"i'm chandu\" \n"
     ]
    }
   ],
   "source": [
    "str4='''hi, \"i'm chandu\" '''\n",
    "print(str4)"
   ]
  },
  {
   "cell_type": "code",
   "execution_count": 55,
   "id": "f4e836f0-3715-4aa2-ad33-6ae666b40ac9",
   "metadata": {},
   "outputs": [
    {
     "name": "stdout",
     "output_type": "stream",
     "text": [
      "Welcome to aiml class\n"
     ]
    },
    {
     "data": {
      "text/plain": [
       "'me to'"
      ]
     },
     "execution_count": 55,
     "metadata": {},
     "output_type": "execute_result"
    }
   ],
   "source": [
    "print(str1)\n",
    "str1[5:10]"
   ]
  },
  {
   "cell_type": "code",
   "execution_count": 57,
   "id": "a7eb5e62-20a0-47df-bc12-5f69d5846905",
   "metadata": {},
   "outputs": [
    {
     "data": {
      "text/plain": [
       "'ssalc lmia ot emocleW'"
      ]
     },
     "execution_count": 57,
     "metadata": {},
     "output_type": "execute_result"
    }
   ],
   "source": [
    "str1[::-1] #reverse the string"
   ]
  },
  {
   "cell_type": "code",
   "execution_count": 63,
   "id": "91ca6e27-0629-4efc-ac82-007484914ec2",
   "metadata": {},
   "outputs": [
    {
     "data": {
      "text/plain": [
       "['__add__',\n",
       " '__class__',\n",
       " '__contains__',\n",
       " '__delattr__',\n",
       " '__dir__',\n",
       " '__doc__',\n",
       " '__eq__',\n",
       " '__format__',\n",
       " '__ge__',\n",
       " '__getattribute__',\n",
       " '__getitem__',\n",
       " '__getnewargs__',\n",
       " '__getstate__',\n",
       " '__gt__',\n",
       " '__hash__',\n",
       " '__init__',\n",
       " '__init_subclass__',\n",
       " '__iter__',\n",
       " '__le__',\n",
       " '__len__',\n",
       " '__lt__',\n",
       " '__mod__',\n",
       " '__mul__',\n",
       " '__ne__',\n",
       " '__new__',\n",
       " '__reduce__',\n",
       " '__reduce_ex__',\n",
       " '__repr__',\n",
       " '__rmod__',\n",
       " '__rmul__',\n",
       " '__setattr__',\n",
       " '__sizeof__',\n",
       " '__str__',\n",
       " '__subclasshook__',\n",
       " 'capitalize',\n",
       " 'casefold',\n",
       " 'center',\n",
       " 'count',\n",
       " 'encode',\n",
       " 'endswith',\n",
       " 'expandtabs',\n",
       " 'find',\n",
       " 'format',\n",
       " 'format_map',\n",
       " 'index',\n",
       " 'isalnum',\n",
       " 'isalpha',\n",
       " 'isascii',\n",
       " 'isdecimal',\n",
       " 'isdigit',\n",
       " 'isidentifier',\n",
       " 'islower',\n",
       " 'isnumeric',\n",
       " 'isprintable',\n",
       " 'isspace',\n",
       " 'istitle',\n",
       " 'isupper',\n",
       " 'join',\n",
       " 'ljust',\n",
       " 'lower',\n",
       " 'lstrip',\n",
       " 'maketrans',\n",
       " 'partition',\n",
       " 'removeprefix',\n",
       " 'removesuffix',\n",
       " 'replace',\n",
       " 'rfind',\n",
       " 'rindex',\n",
       " 'rjust',\n",
       " 'rpartition',\n",
       " 'rsplit',\n",
       " 'rstrip',\n",
       " 'split',\n",
       " 'splitlines',\n",
       " 'startswith',\n",
       " 'strip',\n",
       " 'swapcase',\n",
       " 'title',\n",
       " 'translate',\n",
       " 'upper',\n",
       " 'zfill']"
      ]
     },
     "execution_count": 63,
     "metadata": {},
     "output_type": "execute_result"
    }
   ],
   "source": [
    "dir(str)"
   ]
  },
  {
   "cell_type": "code",
   "execution_count": 67,
   "id": "6a1b140e-5b61-4333-83ca-00b73022f18b",
   "metadata": {},
   "outputs": [
    {
     "name": "stdout",
     "output_type": "stream",
     "text": [
      "Welcome to aiml class\n"
     ]
    },
    {
     "data": {
      "text/plain": [
       "['W', 'lcom', ' to aiml class']"
      ]
     },
     "execution_count": 67,
     "metadata": {},
     "output_type": "execute_result"
    }
   ],
   "source": [
    "#split\n",
    "print(str1)\n",
    "str1.split(\"e\")"
   ]
  },
  {
   "cell_type": "code",
   "execution_count": 77,
   "id": "04a69ad6-aeb8-4500-9aa3-4cf55e56f33b",
   "metadata": {},
   "outputs": [
    {
     "name": "stdout",
     "output_type": "stream",
     "text": [
      "the product is awesomeGreaty service\n"
     ]
    }
   ],
   "source": [
    "#use join() method\n",
    "reviews=[\"the product is awesome\", \"Greaty service\"]\n",
    "joined_string=''.join(reviews)\n",
    "print(joined_string)"
   ]
  },
  {
   "cell_type": "code",
   "execution_count": 85,
   "id": "d0a95906-c80a-4cc2-848f-b91d93f77688",
   "metadata": {},
   "outputs": [
    {
     "data": {
      "text/plain": [
       "'Hello, How are you?'"
      ]
     },
     "execution_count": 85,
     "metadata": {},
     "output_type": "execute_result"
    }
   ],
   "source": [
    "#strip() method\n",
    "str5=\"     Hello, How are you?     \"\n",
    "str5.strip()"
   ]
  },
  {
   "cell_type": "code",
   "execution_count": 87,
   "id": "6e168303-33fd-4869-ab5c-1dea1176c94f",
   "metadata": {},
   "outputs": [],
   "source": [
    "# Example dictionary for product sales analysis\n",
    "sales_data = {\n",
    "    \"ProductID\": [101, 102, 103, 104, 105, 106, 107, 108, 109, 110],\n",
    "    \"ProductName\": [\"Laptop\", \"Mouse\", \"Keyboard\", \"Monitor\", \"Chair\", \"Desk\", \"Webcam\", \"Headphones\", \"Printer\", \"Tablet\"],\n",
    "    \"Category\": [\"Electronics\", \"Accessories\", \"Accessories\", \"Electronics\", \"Furniture\", \"Furniture\", \"Electronics\", \"Accessories\", \"Electronics\", \"Electronics\"],\n",
    "    \"PriceRange\": [\"High\", \"Low\", \"Low\", \"Medium\", \"Medium\", \"Medium\", \"Low\", \"Low\", \"Medium\", \"High\"],\n",
    "    \"StockAvailable\": [15, 100, 75, 20, 10, 8, 50, 60, 25, 12],\n",
    "}"
   ]
  },
  {
   "cell_type": "code",
   "execution_count": 91,
   "id": "fb6dc213-6651-484f-a1eb-6342b0f93a70",
   "metadata": {},
   "outputs": [
    {
     "name": "stdout",
     "output_type": "stream",
     "text": [
      "ProductID {101, 102, 103, 104, 105, 106, 107, 108, 109, 110},\n",
      "ProductName {'Printer', 'Mouse', 'Laptop', 'Headphones', 'Monitor', 'Keyboard', 'Webcam', 'Chair', 'Tablet', 'Desk'},\n",
      "Category {'Electronics', 'Furniture', 'Accessories'},\n",
      "PriceRange {'Low', 'Medium', 'High'},\n",
      "StockAvailable {100, 8, 10, 75, 12, 15, 50, 20, 25, 60},\n"
     ]
    }
   ],
   "source": [
    "for k,v in sales_data.items():\n",
    "    print(k,set(v), end =',')\n",
    "    print('')"
   ]
  },
  {
   "cell_type": "code",
   "execution_count": 93,
   "id": "5871f611-3a16-4036-bfd6-6d8559abfa50",
   "metadata": {},
   "outputs": [
    {
     "data": {
      "text/plain": [
       "{'Review1': {'WordCount': 14,\n",
       "  'UniqueWords': ['versatile',\n",
       "   'excellent',\n",
       "   'the',\n",
       "   'and',\n",
       "   'delivery',\n",
       "   'product',\n",
       "   'is',\n",
       "   'prompt',\n",
       "   'was',\n",
       "   'functionality',\n",
       "   'quality']},\n",
       " 'Review2': {'WordCount': 15,\n",
       "  'UniqueWords': ['have',\n",
       "   'good',\n",
       "   'has',\n",
       "   'to',\n",
       "   'the',\n",
       "   'been',\n",
       "   'improve',\n",
       "   'could',\n",
       "   'service',\n",
       "   'packaging',\n",
       "   'customer',\n",
       "   'but',\n",
       "   'better']},\n",
       " 'Review3': {'WordCount': 18,\n",
       "  'UniqueWords': ['i',\n",
       "   'fine',\n",
       "   'support',\n",
       "   'as',\n",
       "   'excellent',\n",
       "   'works',\n",
       "   'the',\n",
       "   'very',\n",
       "   'helpful',\n",
       "   'rate',\n",
       "   'product',\n",
       "   'not',\n",
       "   'customer',\n",
       "   'is',\n",
       "   'but']}}"
      ]
     },
     "execution_count": 93,
     "metadata": {},
     "output_type": "execute_result"
    }
   ],
   "source": [
    "# Original reviews dictionary\n",
    "reviews = {\n",
    "    \"Review1\": \"The product quality is excellent and delivery was prompt. The product functionality is versatile\",\n",
    "    \"Review2\": \"Good service but the packaging could have been better. The customer service has to improve\",\n",
    "    \"Review3\": \"The product works fine, but the customer support is not very helpful. I rate the product as excellent\",\n",
    "}\n",
    "\n",
    "# Result dictionary to store analysis of reviews\n",
    "review_analysis = {}\n",
    "\n",
    "# Process each review\n",
    "for key, review in reviews.items():\n",
    "    # Split the review into words\n",
    "    words = review.lower().replace('.', '').replace(',', '').split()\n",
    "    # Create a sub-dictionary with word count and unique words\n",
    "    review_analysis[key] = {\n",
    "        \"WordCount\": len(words),\n",
    "        \"UniqueWords\": list(set(words))\n",
    "    }\n",
    "\n",
    "review_analysis\n"
   ]
  },
  {
   "cell_type": "code",
   "execution_count": 95,
   "id": "26759290-3ba0-4777-bbd2-16fc6c0f9e94",
   "metadata": {},
   "outputs": [
    {
     "name": "stdout",
     "output_type": "stream",
     "text": [
      "Ramya\n",
      "Ram\n",
      "shyam\n"
     ]
    }
   ],
   "source": [
    "d1={\"Ramya\":176,\"Ram\":170,\"shyam\":180}\n",
    "for k in d1.keys():\n",
    "    print(k)"
   ]
  },
  {
   "cell_type": "code",
   "execution_count": 97,
   "id": "2be9f040-cadc-40ba-adc2-27aab4977fcc",
   "metadata": {},
   "outputs": [
    {
     "name": "stdout",
     "output_type": "stream",
     "text": [
      "176\n",
      "170\n",
      "180\n"
     ]
    }
   ],
   "source": [
    "d1={\"Ramya\":176,\"Ram\":170,\"shyam\":180}\n",
    "for v in d1.values():\n",
    "    print(v)"
   ]
  },
  {
   "cell_type": "code",
   "execution_count": 99,
   "id": "ca8b7973-d8b5-41bf-a72d-edea758101f1",
   "metadata": {},
   "outputs": [
    {
     "name": "stdout",
     "output_type": "stream",
     "text": [
      "Ramya 176\n",
      "Ram 170\n",
      "shyam 180\n"
     ]
    }
   ],
   "source": [
    "d1={\"Ramya\":176,\"Ram\":170,\"shyam\":180}\n",
    "for k,v in d1.items():\n",
    "    print(k,v)"
   ]
  },
  {
   "cell_type": "code",
   "execution_count": 103,
   "id": "298396b2-b101-465d-bdcb-4f362d2146a4",
   "metadata": {},
   "outputs": [
    {
     "data": {
      "text/plain": [
       "{'Ramya': 176, 'Ram': 170, 'shyam': 180, 'john': 165}"
      ]
     },
     "execution_count": 103,
     "metadata": {},
     "output_type": "execute_result"
    }
   ],
   "source": [
    "d1[\"john\"]=165\n",
    "d1"
   ]
  },
  {
   "cell_type": "code",
   "execution_count": null,
   "id": "0124a538-3599-419a-9d50-6ad81b9f2618",
   "metadata": {},
   "outputs": [],
   "source": []
  }
 ],
 "metadata": {
  "kernelspec": {
   "display_name": "Python 3 (ipykernel)",
   "language": "python",
   "name": "python3"
  },
  "language_info": {
   "codemirror_mode": {
    "name": "ipython",
    "version": 3
   },
   "file_extension": ".py",
   "mimetype": "text/x-python",
   "name": "python",
   "nbconvert_exporter": "python",
   "pygments_lexer": "ipython3",
   "version": "3.12.4"
  }
 },
 "nbformat": 4,
 "nbformat_minor": 5
}
