{
 "cells": [
  {
   "cell_type": "code",
   "execution_count": null,
   "id": "b0c61cf5-fdea-45b8-b4e8-2a07749bc187",
   "metadata": {},
   "outputs": [],
   "source": [
    "# numpy arrays\n",
    "###numirical python"
   ]
  },
  {
   "cell_type": "code",
   "execution_count": 1,
   "id": "e12a1767-6bed-4e5b-bf8c-9df3dd545f98",
   "metadata": {},
   "outputs": [],
   "source": [
    "import numpy as np\n",
    "#dir(np for all directories in numpy"
   ]
  },
  {
   "cell_type": "code",
   "execution_count": 3,
   "id": "ea62f807-1d96-4bb9-8466-b188455cc948",
   "metadata": {},
   "outputs": [
    {
     "name": "stdout",
     "output_type": "stream",
     "text": [
      "[45 67 57 60]\n",
      "<class 'numpy.ndarray'>\n",
      "int64\n"
     ]
    }
   ],
   "source": [
    "# create id numpy array\n",
    "x=np.array([45,67,57,60])\n",
    "print(x)\n",
    "print(type(x))# class of object\n",
    "print(x.dtype)# for data type of object"
   ]
  },
  {
   "cell_type": "code",
   "execution_count": 5,
   "id": "f2f38bb2-191b-4c4a-bc20-7988c5c9aa91",
   "metadata": {},
   "outputs": [
    {
     "name": "stdout",
     "output_type": "stream",
     "text": [
      "[45.  67.  57.   9.8]\n",
      "<class 'numpy.ndarray'>\n",
      "float64\n"
     ]
    }
   ],
   "source": [
    "# create id numpy array\n",
    "x=np.array([45,67,57,9.8])\n",
    "print(x)\n",
    "print(type(x))# class of object\n",
    "print(x.dtype)# for data type of object"
   ]
  },
  {
   "cell_type": "code",
   "execution_count": 7,
   "id": "066fc10d-52ad-4ffd-a9a0-70f52ad61d05",
   "metadata": {},
   "outputs": [
    {
     "name": "stdout",
     "output_type": "stream",
     "text": [
      "['45' '67' '57' '60' 'G']\n",
      "<class 'numpy.ndarray'>\n",
      "<U21\n"
     ]
    }
   ],
   "source": [
    "# create id numpy array\n",
    "x=np.array([45,67,57,60,'G'])\n",
    "print(x)\n",
    "print(type(x))# class of object\n",
    "print(x.dtype)# for data type of object"
   ]
  },
  {
   "cell_type": "code",
   "execution_count": 15,
   "id": "65dc7cbf-9467-4895-bf9d-a0735d076cb6",
   "metadata": {},
   "outputs": [
    {
     "name": "stdout",
     "output_type": "stream",
     "text": [
      "[[45 67]\n",
      " [57 60]]\n",
      "<class 'numpy.ndarray'>\n",
      "(2, 2)\n"
     ]
    }
   ],
   "source": [
    "# create 2d numpy array\n",
    "x1=np.array([[45,67],[57,60]])\n",
    "print(x1)\n",
    "print(type(x1))# class of object\n",
    "print(x1.shape)# for data type of object"
   ]
  },
  {
   "cell_type": "code",
   "execution_count": 23,
   "id": "1a93b59f-325d-4c9b-9745-9c4727dbee49",
   "metadata": {},
   "outputs": [
    {
     "name": "stdout",
     "output_type": "stream",
     "text": [
      "[[45 67]\n",
      " [57 60]]\n",
      "<class 'numpy.ndarray'>\n",
      "(2, 2)\n"
     ]
    }
   ],
   "source": [
    "# create 1d numpy array\n",
    "x=np.array([45,67,57,60])\n",
    "y=x.reshape(2,2)# instead of 1,4 , 4,1\n",
    "print(y)\n",
    "print(type(y))# class of object\n",
    "print(y.shape)# for data type of object"
   ]
  },
  {
   "cell_type": "code",
   "execution_count": 37,
   "id": "d293e0d0-23a5-4c00-9cfa-68b45f9b4bc2",
   "metadata": {},
   "outputs": [
    {
     "name": "stdout",
     "output_type": "stream",
     "text": [
      "[ 3  4  5  6  7  8  9 10]\n",
      "[[ 3  4]\n",
      " [ 5  6]\n",
      " [ 7  8]\n",
      " [ 9 10]]\n"
     ]
    },
    {
     "data": {
      "text/plain": [
       "numpy.ndarray"
      ]
     },
     "execution_count": 37,
     "metadata": {},
     "output_type": "execute_result"
    }
   ],
   "source": [
    "# create an array with arange()\n",
    "c=np.arange(3,11)\n",
    "c1=c.reshape(4,2)\n",
    "print(c)\n",
    "print(c1)\n",
    "type(c1)"
   ]
  },
  {
   "cell_type": "code",
   "execution_count": 41,
   "id": "fb130cca-9084-46e3-ad30-8acaa2dab48a",
   "metadata": {},
   "outputs": [
    {
     "name": "stdout",
     "output_type": "stream",
     "text": [
      "[1.3467  3.10987 4.91236]\n"
     ]
    },
    {
     "data": {
      "text/plain": [
       "array([1.35, 3.11, 4.91])"
      ]
     },
     "execution_count": 41,
     "metadata": {},
     "output_type": "execute_result"
    }
   ],
   "source": [
    "# use of around()\n",
    "d=np.array([1.3467,3.10987,4.91236])\n",
    "print(d)\n",
    "np.around(d,2)"
   ]
  },
  {
   "cell_type": "code",
   "execution_count": 43,
   "id": "02967abe-132b-4a41-8d3d-855c1d095391",
   "metadata": {},
   "outputs": [
    {
     "name": "stdout",
     "output_type": "stream",
     "text": [
      "[1.3467  3.10987 4.91236]\n",
      "[1.16 1.76 2.22]\n"
     ]
    }
   ],
   "source": [
    "# use of np.sqrt()\n",
    "d=np.array([1.3467,3.10987,4.91236])\n",
    "print(d)\n",
    "print(np.around(np.sqrt(d),2))"
   ]
  },
  {
   "cell_type": "code",
   "execution_count": 47,
   "id": "8664495a-da59-410d-a9dc-eb555e945f28",
   "metadata": {},
   "outputs": [
    {
     "data": {
      "text/plain": [
       "np.float64(4.0)"
      ]
     },
     "execution_count": 47,
     "metadata": {},
     "output_type": "execute_result"
    }
   ],
   "source": [
    "np.sqrt(16)"
   ]
  },
  {
   "cell_type": "code",
   "execution_count": 51,
   "id": "402297dc-ca11-4da8-9dc5-ebb64c73c485",
   "metadata": {},
   "outputs": [
    {
     "name": "stdout",
     "output_type": "stream",
     "text": [
      "[[ 3.  4.  5.  8.]\n",
      " [ 7.  2.  8. nan]]\n"
     ]
    },
    {
     "data": {
      "text/plain": [
       "dtype('float64')"
      ]
     },
     "execution_count": 51,
     "metadata": {},
     "output_type": "execute_result"
    }
   ],
   "source": [
    "# use of np.nan for showing null value\n",
    "x1=np.array([[3,4,5,8],[7,2,8,np.nan]])\n",
    "print(x1)\n",
    "x1.dtype"
   ]
  },
  {
   "cell_type": "code",
   "execution_count": 53,
   "id": "054f16a9-7eee-42bb-827c-5910d2d7cb24",
   "metadata": {},
   "outputs": [
    {
     "name": "stdout",
     "output_type": "stream",
     "text": [
      "[['3.0' '4.0' '5.0' '8.0']\n",
      " ['7.0' '2.0' '8.0' 'nan']]\n"
     ]
    },
    {
     "data": {
      "text/plain": [
       "dtype('<U32')"
      ]
     },
     "execution_count": 53,
     "metadata": {},
     "output_type": "execute_result"
    }
   ],
   "source": [
    "# use of np.astype() to convert the data type\n",
    "x1=np.array([[3,4,5,8],[7,2,8,np.nan]])\n",
    "x2=x1.astype(str)\n",
    "print(x2)\n",
    "x2.dtype"
   ]
  },
  {
   "cell_type": "code",
   "execution_count": 70,
   "id": "27769c46-b1e9-4818-a5cf-2c2875bcd88b",
   "metadata": {},
   "outputs": [
    {
     "name": "stdout",
     "output_type": "stream",
     "text": [
      "[[ 3  4  6]\n",
      " [ 7  9 10]\n",
      " [ 4  6 12]]\n",
      "[13 26 22]\n"
     ]
    },
    {
     "data": {
      "text/plain": [
       "array([4.33333333, 8.66666667, 7.33333333])"
      ]
     },
     "execution_count": 70,
     "metadata": {},
     "output_type": "execute_result"
    }
   ],
   "source": [
    "#maths operations an rows and cols\n",
    "a2=np.array([[3,4,6],[7,9,10],[4,6,12]])\n",
    "print(a2)\n",
    "print(a2.sum(axis=1))#for rows\n",
    "a2.sum(axis=0)#for cols\n",
    "a2.mean(axis=1)"
   ]
  },
  {
   "cell_type": "code",
   "execution_count": 74,
   "id": "4fe8ebe5-ce67-4d94-b5ca-54d554d2af44",
   "metadata": {},
   "outputs": [
    {
     "name": "stdout",
     "output_type": "stream",
     "text": [
      "[[ 3  4  6]\n",
      " [ 7  9 10]\n",
      " [ 4  6 12]]\n",
      "\n",
      "[[ 0  4  6]\n",
      " [ 7  0 10]\n",
      " [ 4  6  0]]\n"
     ]
    }
   ],
   "source": [
    "#matrix operations\n",
    "a3=np.array([[3,4,6],[7,9,10],[4,6,12]])\n",
    "print(a3)\n",
    "np.fill_diagonal(a3,0) #for diagonal elements\n",
    "print()\n",
    "print(a3)"
   ]
  },
  {
   "cell_type": "code",
   "execution_count": 78,
   "id": "dd078a8f-1ad9-4067-b342-3539005591eb",
   "metadata": {},
   "outputs": [
    {
     "name": "stdout",
     "output_type": "stream",
     "text": [
      "[[ 7 10]\n",
      " [15 22]]\n"
     ]
    }
   ],
   "source": [
    "# multiply matrices\n",
    "A=np.array([[1,2],[3,4]])\n",
    "B=np.array([[1,2],[3,4]])\n",
    "c=np.matmul(A,B)\n",
    "print(c)"
   ]
  },
  {
   "cell_type": "code",
   "execution_count": 80,
   "id": "1e0275af-2be6-491e-811a-f74c46ce197b",
   "metadata": {},
   "outputs": [
    {
     "name": "stdout",
     "output_type": "stream",
     "text": [
      "[[1 3]\n",
      " [2 4]]\n"
     ]
    }
   ],
   "source": [
    "# to find transopose use '.T'\n",
    "print(A.T)"
   ]
  },
  {
   "cell_type": "code",
   "execution_count": 92,
   "id": "72c67ad9-43ae-4f48-a55f-cd4f76ff5144",
   "metadata": {},
   "outputs": [
    {
     "name": "stdout",
     "output_type": "stream",
     "text": [
      "[[ 3  4  5]\n",
      " [ 7  2  8]\n",
      " [ 9  1  6]\n",
      " [10  9 18]]\n",
      "\n",
      "6\n",
      "9\n"
     ]
    }
   ],
   "source": [
    "# Accessing array elements\n",
    "a4=np.array([[3,4,5],[7,2,8],[9,1,6],[10,9,18]])\n",
    "print(a4)\n",
    "print()\n",
    "print(a4[2][2])#[r][c]\n",
    "print(a4[2][0])"
   ]
  },
  {
   "cell_type": "code",
   "execution_count": 94,
   "id": "80d81e28-482c-4ca9-b066-a6e1b172a7f9",
   "metadata": {},
   "outputs": [
    {
     "data": {
      "text/plain": [
       "array([[7, 2],\n",
       "       [9, 1]])"
      ]
     },
     "execution_count": 94,
     "metadata": {},
     "output_type": "execute_result"
    }
   ],
   "source": [
    "#row slicing and col slicing\n",
    "a4[1:3,0:2] #a4[row,col]"
   ]
  },
  {
   "cell_type": "code",
   "execution_count": 108,
   "id": "2944288d-74ff-42ed-ac3a-a8dec234a891",
   "metadata": {},
   "outputs": [
    {
     "name": "stdout",
     "output_type": "stream",
     "text": [
      "[[3 4 5]\n",
      " [7 2 8]\n",
      " [9 1 6]]\n",
      "\n",
      "[2 2 0]\n",
      "[2 0 1]\n",
      "amax()\n",
      "[5 8 9]\n",
      "[9 4 8]\n"
     ]
    }
   ],
   "source": [
    "#accessing max value and its index using argmax() it say max values position\n",
    "a3=np.array([[3,4,5],[7,2,8],[9,1,6]])\n",
    "print(a3)\n",
    "print()\n",
    "print(np.argmax(a3,axis=1))\n",
    "print(np.argmax(a3,axis=0))\n",
    "print(\"amax()\")# it shows max values directly\n",
    "print(np.amax(a3,axis=1))\n",
    "print(np.amax(a3,axis=0))"
   ]
  },
  {
   "cell_type": "code",
   "execution_count": 100,
   "id": "a9379c4a-6653-4712-b9ad-94c90aa706f5",
   "metadata": {},
   "outputs": [
    {
     "name": "stdout",
     "output_type": "stream",
     "text": [
      "[ 6 10  6]\n",
      "[ 7  6 10]\n"
     ]
    }
   ],
   "source": [
    "# amax using\n"
   ]
  },
  {
   "cell_type": "code",
   "execution_count": null,
   "id": "9e0a8137-9c62-4b3c-a4ec-99555b03e4c7",
   "metadata": {},
   "outputs": [],
   "source": []
  }
 ],
 "metadata": {
  "kernelspec": {
   "display_name": "Python 3 (ipykernel)",
   "language": "python",
   "name": "python3"
  },
  "language_info": {
   "codemirror_mode": {
    "name": "ipython",
    "version": 3
   },
   "file_extension": ".py",
   "mimetype": "text/x-python",
   "name": "python",
   "nbconvert_exporter": "python",
   "pygments_lexer": "ipython3",
   "version": "3.12.4"
  }
 },
 "nbformat": 4,
 "nbformat_minor": 5
}
